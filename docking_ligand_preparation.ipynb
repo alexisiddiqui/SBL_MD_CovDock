{
 "cells": [
  {
   "cell_type": "code",
   "execution_count": null,
   "metadata": {},
   "outputs": [],
   "source": [
    "### Autodock preparation ### from: https://www.chem.uwec.edu/chem491_w01/Chem491-Molecules%20and%20Medicine%202008/AutoDock%20Tutorial.pdf"
   ]
  },
  {
   "cell_type": "code",
   "execution_count": null,
   "metadata": {},
   "outputs": [],
   "source": []
  },
  {
   "cell_type": "code",
   "execution_count": 4,
   "metadata": {},
   "outputs": [],
   "source": [
    "\n",
    "\n",
    "from SBLMDCOVDOCK.SBLSettings import DOCKING_Settings\n",
    "from SBLMDCOVDOCK.md_setuptools import plot_xvg\n",
    "import pickle\n",
    "from copy import deepcopy\n",
    "import subprocess\n",
    "\n",
    "import pandas as pd\n",
    "import os\n",
    "import glob\n",
    "\n",
    "# import gmxapi as gmx\n",
    "import subprocess\n",
    "import matplotlib.pyplot as plt\n",
    "\n",
    "settings = DOCKING_Settings()\n",
    "main_dir = os.getcwd()\n",
    "\n",
    "# AMPC - https://journals.asm.org/doi/10.1128/AAC.02073-20\n",
    "ampc = \"6T3D\"\n",
    "# KPC-2 - BLDB: http://dx.doi.org/10.1021/ACS.JMEDCHEM.7B00158\n",
    "kpc2 = \"5UL8\"\n",
    "# OXA-10 - BLDB: https://www.pnas.org/doi/full/10.1073/pnas.241442898\n",
    "oxa10 = \"1K55\"\n",
    "\n",
    "structures = pd.DataFrame({\"PDBID\": [ampc, kpc2, oxa10], \n",
    "                           \"Name\": [\"AmpC\", \"KPC2\", \"OXA10\"]})\n",
    "\n"
   ]
  },
  {
   "cell_type": "code",
   "execution_count": 5,
   "metadata": {},
   "outputs": [
    {
     "name": "stdout",
     "output_type": "stream",
     "text": [
      "start_structures/Ligand_Substrate/prepare_ligand4.py\n",
      "True\n",
      "/Users/alexi/Library/CloudStorage/OneDrive-Nexus365/Rotation_Projects/Rotation_2/Project/SBL_MD_CovDock\n"
     ]
    }
   ],
   "source": [
    "prepare_ligand_path = os.path.join(settings.structures_input, \"prepare_ligand4.py\")\n",
    "print(prepare_ligand_path)\n",
    "print(os.path.exists(prepare_ligand_path))\n",
    "print(main_dir)\n",
    "os.chdir(main_dir)"
   ]
  },
  {
   "cell_type": "code",
   "execution_count": 6,
   "metadata": {},
   "outputs": [
    {
     "name": "stdout",
     "output_type": "stream",
     "text": [
      "['3GE.sdf', 'SFR.sdf', 'MX1.sdf', 'QFP.sdf', '9EP.sdf', 'PNM.sdf', 'CZ7.sdf', 'FDT.sdf', 'CVB.sdf', 'CTJ.sdf', 'MXF.sdf', '1RG.sdf', 'MOX.sdf', 'C9P.sdf', 'DH4.sdf', 'QQZ.sdf', 'C8V.sdf', '1S7.sdf', 'ZZ7.sdf', 'MXS.sdf', 'QFS.sdf', '5R7.sdf', 'U2Y.sdf', 'VA1.sdf', '1S6.sdf', 'TBI.sdf', 'OZO.sdf', 'C9D.sdf', 'OZ9.sdf', '6YV.sdf', 'J00.sdf', '6V8.sdf', 'AXL.sdf', 'IAP.sdf', 'PCZ.sdf', 'IM2.sdf', 'LK7.sdf', 'BHU.sdf', 'KAS.sdf', 'BSH.sdf', '105.sdf', 'ZXM.sdf', 'AZR.sdf', 'CAZ.sdf', 'SR3.sdf', 'NFF.sdf', '2TV.sdf', 'PCN.sdf', '2AW.sdf', 'BJH.sdf', 'LK5.sdf', 'BDB.sdf', 'KCX.sdf', '25N.sdf', 'BJI.sdf', '3S2.sdf', 'X57.sdf', 'MXC.sdf', 'CB4.sdf', 'APB.sdf', '3Y6.sdf', '2RG.sdf', '7TC.sdf', 'BZB.sdf', 'QBZ.sdf', 'A1M.sdf', 'H9O.sdf', 'XD2.sdf', 'TEM.sdf', 'SM4.sdf', 'FZS.sdf', 'DVR.sdf', 'JW8.sdf', 'R0B.sdf', 'ISS.sdf', 'WY4.sdf', 'KRT.sdf', '9CP.sdf', 'PKV.sdf', 'OK3.sdf', 'XD1.sdf', 'FOS.sdf', 'CFX.sdf', 'TDJ.sdf', 'TJ7.sdf', '1X6.sdf', 'CEP.sdf', 'SA2.sdf', 'A1J.sdf', 'A0Y.sdf', 'BO2.sdf', '9TJ.sdf', 'N9X.sdf', '4J6.sdf', 'CEF.sdf', 'AP3.sdf', 'SM2.sdf', 'CED.sdf', 'CD6.sdf', '602.sdf', 'JXG.sdf', 'LBX.sdf', 'WY2.sdf', 'BX9.sdf', 'CD7.sdf', 'MK7.sdf', 'SM3.sdf', 'O2F.sdf', 'A0V.sdf', 'ID1.sdf', 'BXU.sdf', '5VW.sdf', 'LOR.sdf', 'ERF.sdf', 'JW3.sdf', '1OG.sdf', '17K.sdf', 'JW1.sdf', 'NXL.sdf', '9TG.sdf', 'LCE.sdf', 'N95.sdf', 'BX6.sdf', 'DXF.sdf', 'OP0.sdf', 'CD8.sdf', 'MER.sdf', 'J4W.sdf', 'DWZ.sdf', 'AIX.sdf', 'HOQ.sdf', 'KE1.sdf', '0RJ.sdf', 'LN1.sdf', 'L4C.sdf', 'NBF.sdf', 'CEO.sdf', 'TEB.sdf', '4D6.sdf', '17O.sdf', '3VT.sdf', 'P1K.sdf', '5VR.sdf', 'NL9.sdf', 'KJK.sdf', 'NW3.sdf', 'IPP.sdf', '2GK.sdf', 'PKY.sdf', '3VU.sdf', 'TSL.sdf', '4CB.sdf', 'M9W.sdf', '4OV.sdf', 'CB9.sdf', 'FK2.sdf', 'CTB.sdf', 'OC0.sdf', 'BSF.sdf', '0NA.sdf', 'BSG.sdf', '8CY.sdf', 'ALP.sdf', 'S1Y.sdf', 'QS8.sdf', 'DGF.sdf', 'CXU.sdf', 'CXB.sdf', 'ETP.sdf', '0NB.sdf', 'LP0.sdf', '0N4.sdf', 'BJP.sdf', 'KL8.sdf', 'TVE.sdf', 'OZ0.sdf', 'OZF.sdf', '33V.sdf', 'CZ9.sdf', '0NG.sdf', 'LD0.sdf', 'BIY.sdf', '7EP.sdf', 'CZ8.sdf', 'HD5.sdf', 'TBE.sdf', 'C8Y.sdf', 'ZXQ.sdf', 'ZX0.sdf', 'PBC.sdf', '2UL.sdf', '0ND.sdf', 'KCP.sdf', 'NPB.sdf', 'PTX.sdf', 'RM9.sdf', '0NE.sdf', '0N3.sdf', 'FDX.sdf', '3P7.sdf', 'DRW.sdf', 'ZX1.sdf', 'C6S.sdf']\n"
     ]
    }
   ],
   "source": [
    "ligands = os.listdir(settings.structures_input)\n",
    "ligands = [ligand for ligand in ligands if ligand.endswith(\".sdf\")]\n",
    "print(ligands)"
   ]
  },
  {
   "cell_type": "code",
   "execution_count": 9,
   "metadata": {},
   "outputs": [],
   "source": [
    "dir = \"/home/alexi/Documents/SBL_MD_CovDock/topology/Dock\"\n"
   ]
  },
  {
   "cell_type": "code",
   "execution_count": null,
   "metadata": {},
   "outputs": [],
   "source": []
  },
  {
   "cell_type": "code",
   "execution_count": 11,
   "metadata": {},
   "outputs": [
    {
     "name": "stdout",
     "output_type": "stream",
     "text": [
      "~/home/alexi/Documents/ADFRsuite_x86_64Linux_1.0/bin/pythonsh ../../config/Dock/prepare_receptor4.py -r APO_6T3D_chimera_FH.pdb -o APO_6T3D_ADT.pdb -v\n"
     ]
    },
    {
     "ename": "FileNotFoundError",
     "evalue": "[Errno 2] No such file or directory: '/home/alexi/Documents/SBL_MD_CovDock/topology/Dock'",
     "output_type": "error",
     "traceback": [
      "\u001b[0;31m---------------------------------------------------------------------------\u001b[0m",
      "\u001b[0;31mFileNotFoundError\u001b[0m                         Traceback (most recent call last)",
      "Cell \u001b[0;32mIn[11], line 18\u001b[0m\n\u001b[1;32m     11\u001b[0m prepare_receptor_command \u001b[39m=\u001b[39m [pythonsh, prepare_rec_path,\n\u001b[1;32m     12\u001b[0m                             \u001b[39m\"\u001b[39m\u001b[39m-r\u001b[39m\u001b[39m\"\u001b[39m, pdb_file,\n\u001b[1;32m     13\u001b[0m                             \u001b[39m\"\u001b[39m\u001b[39m-o\u001b[39m\u001b[39m\"\u001b[39m, out_pdb_name,\n\u001b[1;32m     14\u001b[0m                             \u001b[39m\"\u001b[39m\u001b[39m-v\u001b[39m\u001b[39m\"\u001b[39m\n\u001b[1;32m     15\u001b[0m                             ]\n\u001b[1;32m     17\u001b[0m \u001b[39mprint\u001b[39m(\u001b[39m\"\u001b[39m\u001b[39m \u001b[39m\u001b[39m\"\u001b[39m\u001b[39m.\u001b[39mjoin(prepare_receptor_command))\n\u001b[0;32m---> 18\u001b[0m subprocess\u001b[39m.\u001b[39;49mrun(prepare_receptor_command, cwd \u001b[39m=\u001b[39;49m \u001b[39mdir\u001b[39;49m)\n",
      "File \u001b[0;32m~/miniconda/envs/RIN_test/lib/python3.8/subprocess.py:493\u001b[0m, in \u001b[0;36mrun\u001b[0;34m(input, capture_output, timeout, check, *popenargs, **kwargs)\u001b[0m\n\u001b[1;32m    490\u001b[0m     kwargs[\u001b[39m'\u001b[39m\u001b[39mstdout\u001b[39m\u001b[39m'\u001b[39m] \u001b[39m=\u001b[39m PIPE\n\u001b[1;32m    491\u001b[0m     kwargs[\u001b[39m'\u001b[39m\u001b[39mstderr\u001b[39m\u001b[39m'\u001b[39m] \u001b[39m=\u001b[39m PIPE\n\u001b[0;32m--> 493\u001b[0m \u001b[39mwith\u001b[39;00m Popen(\u001b[39m*\u001b[39;49mpopenargs, \u001b[39m*\u001b[39;49m\u001b[39m*\u001b[39;49mkwargs) \u001b[39mas\u001b[39;00m process:\n\u001b[1;32m    494\u001b[0m     \u001b[39mtry\u001b[39;00m:\n\u001b[1;32m    495\u001b[0m         stdout, stderr \u001b[39m=\u001b[39m process\u001b[39m.\u001b[39mcommunicate(\u001b[39minput\u001b[39m, timeout\u001b[39m=\u001b[39mtimeout)\n",
      "File \u001b[0;32m~/miniconda/envs/RIN_test/lib/python3.8/subprocess.py:858\u001b[0m, in \u001b[0;36mPopen.__init__\u001b[0;34m(self, args, bufsize, executable, stdin, stdout, stderr, preexec_fn, close_fds, shell, cwd, env, universal_newlines, startupinfo, creationflags, restore_signals, start_new_session, pass_fds, encoding, errors, text)\u001b[0m\n\u001b[1;32m    854\u001b[0m         \u001b[39mif\u001b[39;00m \u001b[39mself\u001b[39m\u001b[39m.\u001b[39mtext_mode:\n\u001b[1;32m    855\u001b[0m             \u001b[39mself\u001b[39m\u001b[39m.\u001b[39mstderr \u001b[39m=\u001b[39m io\u001b[39m.\u001b[39mTextIOWrapper(\u001b[39mself\u001b[39m\u001b[39m.\u001b[39mstderr,\n\u001b[1;32m    856\u001b[0m                     encoding\u001b[39m=\u001b[39mencoding, errors\u001b[39m=\u001b[39merrors)\n\u001b[0;32m--> 858\u001b[0m     \u001b[39mself\u001b[39;49m\u001b[39m.\u001b[39;49m_execute_child(args, executable, preexec_fn, close_fds,\n\u001b[1;32m    859\u001b[0m                         pass_fds, cwd, env,\n\u001b[1;32m    860\u001b[0m                         startupinfo, creationflags, shell,\n\u001b[1;32m    861\u001b[0m                         p2cread, p2cwrite,\n\u001b[1;32m    862\u001b[0m                         c2pread, c2pwrite,\n\u001b[1;32m    863\u001b[0m                         errread, errwrite,\n\u001b[1;32m    864\u001b[0m                         restore_signals, start_new_session)\n\u001b[1;32m    865\u001b[0m \u001b[39mexcept\u001b[39;00m:\n\u001b[1;32m    866\u001b[0m     \u001b[39m# Cleanup if the child failed starting.\u001b[39;00m\n\u001b[1;32m    867\u001b[0m     \u001b[39mfor\u001b[39;00m f \u001b[39min\u001b[39;00m \u001b[39mfilter\u001b[39m(\u001b[39mNone\u001b[39;00m, (\u001b[39mself\u001b[39m\u001b[39m.\u001b[39mstdin, \u001b[39mself\u001b[39m\u001b[39m.\u001b[39mstdout, \u001b[39mself\u001b[39m\u001b[39m.\u001b[39mstderr)):\n",
      "File \u001b[0;32m~/miniconda/envs/RIN_test/lib/python3.8/subprocess.py:1720\u001b[0m, in \u001b[0;36mPopen._execute_child\u001b[0;34m(self, args, executable, preexec_fn, close_fds, pass_fds, cwd, env, startupinfo, creationflags, shell, p2cread, p2cwrite, c2pread, c2pwrite, errread, errwrite, restore_signals, start_new_session)\u001b[0m\n\u001b[1;32m   1718\u001b[0m     \u001b[39mif\u001b[39;00m errno_num \u001b[39m!=\u001b[39m \u001b[39m0\u001b[39m:\n\u001b[1;32m   1719\u001b[0m         err_msg \u001b[39m=\u001b[39m os\u001b[39m.\u001b[39mstrerror(errno_num)\n\u001b[0;32m-> 1720\u001b[0m     \u001b[39mraise\u001b[39;00m child_exception_type(errno_num, err_msg, err_filename)\n\u001b[1;32m   1721\u001b[0m \u001b[39mraise\u001b[39;00m child_exception_type(err_msg)\n",
      "\u001b[0;31mFileNotFoundError\u001b[0m: [Errno 2] No such file or directory: '/home/alexi/Documents/SBL_MD_CovDock/topology/Dock'"
     ]
    }
   ],
   "source": [
    "pythonsh= \"/home/alexi/Documents/ADFRsuite_x86_64Linux_1.0/bin/pythonsh\"\n",
    "\n",
    "for pdb in structures.PDBID:\n",
    "    script_name = 'prepare_receptor4.py'\n",
    "    prepare_rec_path = os.path.join(\"..\",\"..\",os.path.join(settings.config, settings.parent, script_name))\n",
    "    pdb_file = f\"APO_{pdb}_chimera_FH.pdb\"\n",
    "\n",
    "    out_pdb_name = \"APO_\" +pdb + \"_ADT\" + \".pdb\"\n",
    "    pdbqt_name = out_pdb_name.replace(\".pdb\", \".pdbqt\")\n",
    "\n",
    "    prepare_receptor_command = [pythonsh, prepare_rec_path,\n",
    "                                \"-r\", pdb_file,\n",
    "                                \"-o\", out_pdb_name,\n",
    "                                \"-v\"\n",
    "                                ]\n",
    "\n",
    "    print(\" \".join(prepare_receptor_command))\n",
    "    subprocess.run(prepare_receptor_command, cwd = dir)\n",
    "\n",
    "\n"
   ]
  },
  {
   "cell_type": "code",
   "execution_count": null,
   "metadata": {},
   "outputs": [],
   "source": [
    "import subprocess\n",
    "pythonsh= \"/home/alexi/Documents/ADFRsuite_x86_64Linux_1.0/bin/pythonsh\"\n",
    "# os.chdir(settings.structures_input)\n",
    "\n",
    "for idx, lig in enumerate(ligands):\n",
    "    lig_pdb = lig.replace(\".sdf\", \".pdb\")\n",
    "    print(idx, lig, lig_pdb)\n",
    "    obabel_command = [\"obabel\", \n",
    "                      \"-i\", \"sdf\", \n",
    "                      \"-o\", \"pdb\", lig, \n",
    "                      \"-O\", lig_pdb, \n",
    "                    #   \"-h\"\n",
    "                      ]\n",
    "\n",
    "    subprocess.run(obabel_command, \n",
    "                       check=True,\n",
    "                       cwd=settings.structures_input)\n",
    "\n",
    "    # break\n",
    "# os.chdir(main_dir)\n"
   ]
  },
  {
   "cell_type": "code",
   "execution_count": null,
   "metadata": {},
   "outputs": [],
   "source": [
    "import subprocess\n",
    "pythonsh= \"/home/alexi/Documents/ADFRsuite_x86_64Linux_1.0/bin/pythonsh\"\n",
    "# os.chdir(settings.structures_input)\n",
    "ligs = []\n",
    "for idx, lig in enumerate(ligands):\n",
    "    lig_pdb = lig.replace(\".sdf\", \".pdb\")\n",
    "\n",
    "    script = \"prepare_ligand4.py\"\n",
    "\n",
    "    lig_out = lig_pdb.replace(\".pdb\", \".pdbqt\")\n",
    "\n",
    "    lig_pdb = os.path.join(settings.structures_input, lig_pdb)\n",
    "    lig_out = os.path.join(settings.topology,settings.parent, lig_out)    \n",
    "\n",
    "    print(idx, lig_pdb, lig_out)\n",
    "    script_path = os.path.join(settings.structures_input, script)\n",
    "    preplig4_command = [pythonsh, script_path, \n",
    "                        \"-l\", lig_pdb, \n",
    "                        \"-o\", lig_out,\n",
    "                        \"-A\", \"bonds_hydrogens\",\n",
    "                        \"-U\", \"nphs_lps\",\n",
    "                        \"-v\"]\n",
    "    try:\n",
    "        subprocess.run(preplig4_command, \n",
    "                       check=True)\n",
    "        ligs.append(lig.replace(\".sdf\", \"\"))\n",
    "    except:\n",
    "        pass\n",
    "\n",
    "    # break\n",
    "# os.chdir(main_dir)\n"
   ]
  },
  {
   "cell_type": "code",
   "execution_count": null,
   "metadata": {},
   "outputs": [],
   "source": [
    "print(ligs)"
   ]
  },
  {
   "cell_type": "code",
   "execution_count": null,
   "metadata": {},
   "outputs": [],
   "source": [
    "pythonsh= \"/home/alexi/Documents/ADFRsuite_x86_64Linux_1.0/bin/pythonsh\"\n",
    "\n",
    "for lig in ligs:\n",
    "    for pdb in structures.PDBID:\n",
    "        break\n",
    "        print(os.getcwd())\n",
    "        script_name = \"prepare_gpf4.py\"\n",
    "        prepare_grid_path = os.path.join(\"..\",\"..\",os.path.join(settings.config, settings.parent, script_name))\n",
    "\n",
    "        pdb_name = \"APO_\" +pdb + \"_ADT\" + \".pdb\"\n",
    "        pdbqt_name = pdb_name.replace(\".pdb\", \".pdbqt\")\n",
    "        ligand_name = lig + \".pdbqt\"\n",
    "        prep_grid_command = [pythonsh,\n",
    "                            prepare_grid_path,\n",
    "                            \"-r\", pdbqt_name,\n",
    "                            \"-l\", ligand_name,\n",
    "                            \"-o\", lig +\"_\"+ pdbqt_name.replace(\".pdbqt\", \".gpf\"),\n",
    "                            # \"-p\", \"ligand_types='H,HD,HS,C,A,N,NA,NS,OA,OS,F,Mg,Mn,Zn,Ca,Fe,Cl,Br,I,SA,S,Se,P,GA,GC,GN,GO,GP,G'\",\n",
    "                            \"-v\"]\n",
    "        \n",
    "        print(\" \".join(prep_grid_command))\n",
    "        dir = \"/home/alexi/Documents/SBL_MD_CovDock/topology/Dock\"\n",
    "\n",
    "        subprocess.run(prep_grid_command, cwd=dir)\n",
    "\n",
    "\n",
    "    # break"
   ]
  },
  {
   "cell_type": "code",
   "execution_count": null,
   "metadata": {},
   "outputs": [],
   "source": [
    "pythonsh= \"/home/alexi/Documents/ADFRsuite_x86_64Linux_1.0/bin/pythonsh\"\n",
    "\n",
    "for lig in ligs:\n",
    "    for pdb in structures.PDBID:\n",
    "\n",
    "        print(os.getcwd())\n",
    "        script_name = \"prepare_dpf4.py\"\n",
    "        prepare_dock_path = os.path.join(\"..\",\"..\",os.path.join(settings.config, settings.parent, script_name))\n",
    "\n",
    "        pdb_name = \"APO_\" +pdb + \"_ADT\" + \".pdb\"\n",
    "        pdbqt_name = pdb_name.replace(\".pdb\", \".pdbqt\")\n",
    "        ligand_name = lig + \".pdbqt\"\n",
    "        prep_dock_command = [pythonsh,\n",
    "                            prepare_dock_path,\n",
    "                            \"-l\", ligand_name,\n",
    "                            \"-r\", pdbqt_name,\n",
    "                            \"-o\", lig +\"_\"+ pdbqt_name.replace(\".pdbqt\", \".dpf\"),\n",
    "                            \"-v\"]\n",
    "\n",
    "        print(\" \".join(prep_dock_command))\n",
    "        dir = \"/home/alexi/Documents/SBL_MD_CovDock/topology/Dock\"\n",
    "\n",
    "        subprocess.run(prep_dock_command, cwd=dir, check=True)\n",
    "\n",
    "\n"
   ]
  },
  {
   "cell_type": "code",
   "execution_count": null,
   "metadata": {},
   "outputs": [],
   "source": []
  },
  {
   "cell_type": "code",
   "execution_count": null,
   "metadata": {},
   "outputs": [],
   "source": [
    "print(os.getcwd())"
   ]
  },
  {
   "cell_type": "code",
   "execution_count": null,
   "metadata": {},
   "outputs": [],
   "source": []
  },
  {
   "cell_type": "markdown",
   "metadata": {},
   "source": []
  },
  {
   "cell_type": "code",
   "execution_count": null,
   "metadata": {},
   "outputs": [],
   "source": [
    "print(os.listdir(dir))"
   ]
  },
  {
   "cell_type": "code",
   "execution_count": null,
   "metadata": {},
   "outputs": [],
   "source": [
    "\n",
    "autodockgpu_dir = \"/home/alexi/Documents/AutoDock-GPU/bin\"\n",
    "engine = \"CUDA_64\"\n",
    "\n",
    "autodockgpu = f\"autodock_{engine}wi\"\n",
    "auto_dock = os.path.join(autodockgpu_dir, autodockgpu)\n",
    "docked = []\n",
    "# for pdb in structures.PDBID:\n",
    "pdb=\"5UL8\"\n",
    "for lig in ligs:\n",
    "# for pdb in structures.PDBID:\n",
    "    # print(\"Docking \", lig, \" to \", pdb)\n",
    "    name = \"APO_\" +pdb + \"_ADT\"\n",
    "    pdb_name =  name + \".pdb\"\n",
    "    pdbqt_name = pdb_name.replace(\".pdb\", \".pdbqt\")\n",
    "    grid_name = lig +\"_\"+ pdbqt_name.replace(\".pdbqt\", \".gpf\")\n",
    "    grid_log = grid_name.replace(\".gpf\", \".glg\")\n",
    "\n",
    "    autogrid_command = [\"autogrid4\", \n",
    "                        \"-p\", grid_name, \n",
    "                        \"-l\", grid_log, \n",
    "                        \"-d\", f\"{name}.maps.fld\", \n",
    "                        \"-o\", f\"{name}.maps.map\",\n",
    "                        \"-v\"]\n",
    "\n",
    "    dock_name = lig +\"_\"+ pdbqt_name.replace(\".pdbqt\", \".dpf\")\n",
    "    dock_log = dock_name.replace(\".dpf\", \".dlg\")\n",
    "\n",
    "    autodock_command = [auto_dock, \n",
    "                        # \"-p\", dock_name, \n",
    "                        # \"-l\", dock_log, \n",
    "                        \"-M\",  f\"{name}.maps.fld\", \n",
    "                        \"-L\", f\"{lig}.pdbqt\",\n",
    "                        \"--lsmet\", \"ad\",\n",
    "                        # \"--psize\", \"50\",\n",
    "                        # \"--nrun\", \"50\",\n",
    "                        \"-v\"]\n",
    "\n",
    "\n",
    "    dir = \"/home/alexi/Documents/SBL_MD_CovDock/topology/Dock\"\n",
    "    # print(os.listdir(dir))\n",
    "    try:\n",
    "        subprocess.run(autogrid_command, check=True,cwd=dir)\n",
    "        subprocess.run(autodock_command, check=True,cwd=dir)\n",
    "        print(\"Docking successful\")\n",
    "        docked.append((lig, pdb))\n",
    "    except:\n",
    "        pass\n",
    "    # break\n",
    "print(docked)"
   ]
  },
  {
   "cell_type": "code",
   "execution_count": null,
   "metadata": {},
   "outputs": [],
   "source": []
  },
  {
   "cell_type": "code",
   "execution_count": null,
   "metadata": {},
   "outputs": [],
   "source": [
    "print(docked)"
   ]
  },
  {
   "cell_type": "code",
   "execution_count": null,
   "metadata": {},
   "outputs": [],
   "source": []
  },
  {
   "cell_type": "code",
   "execution_count": null,
   "metadata": {},
   "outputs": [],
   "source": []
  }
 ],
 "metadata": {
  "kernelspec": {
   "display_name": "cuda_martini",
   "language": "python",
   "name": "python3"
  },
  "language_info": {
   "codemirror_mode": {
    "name": "ipython",
    "version": 3
   },
   "file_extension": ".py",
   "mimetype": "text/x-python",
   "name": "python",
   "nbconvert_exporter": "python",
   "pygments_lexer": "ipython3",
   "version": "3.8.17"
  },
  "orig_nbformat": 4
 },
 "nbformat": 4,
 "nbformat_minor": 2
}
