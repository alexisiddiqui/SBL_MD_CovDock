{
 "cells": [
  {
   "cell_type": "code",
   "execution_count": null,
   "metadata": {},
   "outputs": [],
   "source": [
    "### Autodock preparation ### from: https://www.chem.uwec.edu/chem491_w01/Chem491-Molecules%20and%20Medicine%202008/AutoDock%20Tutorial.pdf"
   ]
  },
  {
   "cell_type": "code",
   "execution_count": null,
   "metadata": {},
   "outputs": [],
   "source": []
  },
  {
   "cell_type": "code",
   "execution_count": null,
   "metadata": {},
   "outputs": [],
   "source": [
    "\n",
    "\n",
    "from SBLMDCOVDOCK.SBLSettings import DOCKING_Settings\n",
    "from SBLMDCOVDOCK.md_setuptools import plot_xvg\n",
    "import pickle\n",
    "from copy import deepcopy\n",
    "import subprocess\n",
    "\n",
    "import pandas as pd\n",
    "import os\n",
    "import glob\n",
    "\n",
    "# import gmxapi as gmx\n",
    "import subprocess\n",
    "import matplotlib.pyplot as plt\n",
    "\n",
    "settings = DOCKING_Settings()\n",
    "main_dir = os.getcwd()\n",
    "\n",
    "# AMPC - https://journals.asm.org/doi/10.1128/AAC.02073-20\n",
    "ampc = \"6T3D\"\n",
    "# KPC-2 - BLDB: http://dx.doi.org/10.1021/ACS.JMEDCHEM.7B00158\n",
    "kpc2 = \"5UL8\"\n",
    "# OXA-10 - BLDB: https://www.pnas.org/doi/full/10.1073/pnas.241442898\n",
    "oxa10 = \"1K55\"\n",
    "\n",
    "structures = pd.DataFrame({\"PDBID\": [ampc, kpc2, oxa10], \n",
    "                           \"Name\": [\"AmpC\", \"KPC2\", \"OXA10\"],\n",
    "                           \"Cat_Ser\": [64,70,67]})\n",
    "\n"
   ]
  },
  {
   "cell_type": "code",
   "execution_count": null,
   "metadata": {},
   "outputs": [],
   "source": [
    "prepare_ligand_path = os.path.join(settings.structures_input, \"prepare_ligand4.py\")\n",
    "print(prepare_ligand_path)\n",
    "print(os.path.exists(prepare_ligand_path))\n",
    "print(main_dir)\n",
    "os.chdir(main_dir)"
   ]
  },
  {
   "cell_type": "code",
   "execution_count": null,
   "metadata": {},
   "outputs": [],
   "source": [
    "ligands = os.listdir(settings.structures_input)\n",
    "ligands = [ligand for ligand in ligands if ligand.endswith(\".sdf\")]\n",
    "print(ligands)"
   ]
  },
  {
   "cell_type": "code",
   "execution_count": null,
   "metadata": {},
   "outputs": [],
   "source": [
    "dir = \"/home/alexi/Documents/SBL_MD_CovDock/topology/Dock\"\n"
   ]
  },
  {
   "cell_type": "code",
   "execution_count": null,
   "metadata": {},
   "outputs": [],
   "source": []
  },
  {
   "cell_type": "code",
   "execution_count": null,
   "metadata": {},
   "outputs": [],
   "source": [
    "pythonsh= \"/home/alexi/Documents/ADFRsuite_x86_64Linux_1.0/bin/pythonsh\"\n",
    "print(dir)\n",
    "for pdb in structures.PDBID:\n",
    "    script_name = 'prepare_receptor4.py'\n",
    "    prepare_rec_path = os.path.join(\"..\",\"..\",os.path.join(settings.config, settings.parent, script_name))\n",
    "    pdb_file = f\"APO_{pdb}_chimeraFH.pdb\"\n",
    "\n",
    "    out_pdb_name = \"APO_\" +pdb + \"_ADT\" + \".pdb\"\n",
    "    pdbqt_name = out_pdb_name.replace(\".pdb\", \".pdbqt\")\n",
    "\n",
    "    prepare_receptor_command = [pythonsh, prepare_rec_path,\n",
    "                                \"-r\", pdb_file,\n",
    "                                \"-o\", pdbqt_name,\n",
    "                                # \"-A\", \"checkhydrogens\",\n",
    "                                \"-e\", \n",
    "                                \"-v\",\n",
    "\n",
    "                                ]\n",
    "\n",
    "    print(\" \".join(prepare_receptor_command))\n",
    "    subprocess.run(prepare_receptor_command, cwd = dir,check=True)\n",
    "\n",
    "\n"
   ]
  },
  {
   "cell_type": "code",
   "execution_count": null,
   "metadata": {},
   "outputs": [],
   "source": [
    "os.getcwd()"
   ]
  },
  {
   "cell_type": "code",
   "execution_count": null,
   "metadata": {},
   "outputs": [],
   "source": []
  },
  {
   "cell_type": "code",
   "execution_count": null,
   "metadata": {},
   "outputs": [],
   "source": []
  },
  {
   "cell_type": "code",
   "execution_count": null,
   "metadata": {},
   "outputs": [],
   "source": []
  },
  {
   "cell_type": "code",
   "execution_count": null,
   "metadata": {},
   "outputs": [],
   "source": [
    "import subprocess\n",
    "pythonsh= \"/home/alexi/Documents/ADFRsuite_x86_64Linux_1.0/bin/pythonsh\"\n",
    "# os.chdir(settings.structures_input)\n",
    "\n",
    "for idx, lig in enumerate(ligands):\n",
    "    lig_pdb = lig.replace(\".sdf\", \".pdb\")\n",
    "    print(idx, lig, lig_pdb)\n",
    "    obabel_command = [\"obabel\", \n",
    "                      \"-i\", \"sdf\", \n",
    "                      \"-o\", \"pdb\", lig, \n",
    "                      \"-O\", lig_pdb, \n",
    "                    #   \"-h\"\n",
    "                      ]\n",
    "\n",
    "    subprocess.run(obabel_command, \n",
    "                       check=True,\n",
    "                       cwd=settings.structures_input)\n",
    "\n",
    "    # break\n",
    "# os.chdir(main_dir)\n"
   ]
  },
  {
   "cell_type": "code",
   "execution_count": null,
   "metadata": {},
   "outputs": [],
   "source": [
    "os.listdir(dir)"
   ]
  },
  {
   "cell_type": "code",
   "execution_count": null,
   "metadata": {},
   "outputs": [],
   "source": [
    "import subprocess\n",
    "pythonsh= \"/home/alexi/Documents/ADFRsuite_x86_64Linux_1.0/bin/pythonsh\"\n",
    "# os.chdir(settings.structures_input)\n",
    "ligs = []\n",
    "for idx, lig in enumerate(ligands):\n",
    "    lig_pdb = lig.replace(\".sdf\", \".pdb\")\n",
    "\n",
    "    script = \"prepare_ligand4.py\"\n",
    "\n",
    "    lig_out = lig_pdb.replace(\".pdb\", \".pdbqt\")\n",
    "\n",
    "    lig_pdb = os.path.join(settings.structures_input, lig_pdb)\n",
    "    lig_out = os.path.join(settings.topology,settings.parent, lig_out)    \n",
    "\n",
    "    print(idx, lig_pdb, lig_out)\n",
    "    script_path = os.path.join(settings.structures_input, script)\n",
    "    preplig4_command = [pythonsh, script_path, \n",
    "                        \"-l\", lig_pdb, \n",
    "                        \"-o\", lig_out,\n",
    "                        \"-A\", \"bonds_hydrogens\",\n",
    "                        \"-U\", \"nphs_lps\",\n",
    "                        \"-v\"]\n",
    "    try:\n",
    "        subprocess.run(preplig4_command, \n",
    "                       check=True)\n",
    "        ligs.append(lig.replace(\".sdf\", \"\"))\n",
    "    except:\n",
    "        pass\n",
    "\n",
    "    # break\n",
    "# os.chdir(main_dir)\n"
   ]
  },
  {
   "cell_type": "code",
   "execution_count": null,
   "metadata": {},
   "outputs": [],
   "source": [
    "print(ligs)"
   ]
  },
  {
   "cell_type": "code",
   "execution_count": null,
   "metadata": {},
   "outputs": [],
   "source": [
    "pythonsh= \"/home/alexi/Documents/ADFRsuite_x86_64Linux_1.0/bin/pythonsh\"\n",
    "\n",
    "for lig in ligs:\n",
    "    for pdb in structures.PDBID:\n",
    "        # break\n",
    "        print(os.getcwd())\n",
    "        script_name = \"prepare_gpf4.py\"\n",
    "        prepare_grid_path = os.path.join(\"..\",\"..\",os.path.join(settings.config, settings.parent, script_name))\n",
    "\n",
    "        pdb_name = \"APO_\" +pdb + \"_ADT\" + \".pdb\"\n",
    "        pdbqt_name = pdb_name.replace(\".pdb\", \".pdbqt\")\n",
    "        ligand_name = lig + \".pdbqt\"\n",
    "        prep_grid_command = [pythonsh,\n",
    "                            prepare_grid_path,\n",
    "                            \"-r\", pdbqt_name,\n",
    "                            \"-l\", ligand_name,\n",
    "                            \"-o\", lig +\"_\"+ pdbqt_name.replace(\".pdbqt\", \".gpf\"),\n",
    "                            # \"-p\", \"ligand_types='H,HD,HS,C,A,N,NA,NS,OA,OS,F,Mg,Mn,Zn,Ca,Fe,Cl,Br,I,SA,S,Se,P,GA,GC,GN,GO,GP,G'\",\n",
    "                            \n",
    "                            \"-v\"]\n",
    "        \n",
    "        print(\" \".join(prep_grid_command))\n",
    "        dir = \"/home/alexi/Documents/SBL_MD_CovDock/topology/Dock\"\n",
    "\n",
    "        subprocess.run(prep_grid_command, cwd=dir)\n",
    "\n",
    "\n",
    "    # break"
   ]
  },
  {
   "cell_type": "code",
   "execution_count": null,
   "metadata": {},
   "outputs": [],
   "source": [
    "pythonsh= \"/home/alexi/Documents/ADFRsuite_x86_64Linux_1.0/bin/pythonsh\"\n",
    "\n",
    "for lig in ligs:\n",
    "    for pdb in structures.PDBID:\n",
    "\n",
    "        print(os.getcwd())\n",
    "        script_name = \"prepare_dpf4.py\"\n",
    "        prepare_dock_path = os.path.join(\"..\",\"..\",os.path.join(settings.config, settings.parent, script_name))\n",
    "\n",
    "        pdb_name = \"APO_\" +pdb + \"_ADT\" + \".pdb\"\n",
    "        pdbqt_name = pdb_name.replace(\".pdb\", \".pdbqt\")\n",
    "        ligand_name = lig + \".pdbqt\"\n",
    "        prep_dock_command = [pythonsh,\n",
    "                            prepare_dock_path,\n",
    "                            \"-l\", ligand_name,\n",
    "                            \"-r\", pdbqt_name,\n",
    "                            \"-o\", lig +\"_\"+ pdbqt_name.replace(\".pdbqt\", \".dpf\"),\n",
    "                            \"-v\"]\n",
    "\n",
    "        print(\" \".join(prep_dock_command))\n",
    "        dir = \"/home/alexi/Documents/SBL_MD_CovDock/topology/Dock\"\n",
    "\n",
    "        subprocess.run(prep_dock_command, cwd=dir, check=True)\n",
    "\n",
    "\n"
   ]
  },
  {
   "cell_type": "code",
   "execution_count": null,
   "metadata": {},
   "outputs": [],
   "source": []
  },
  {
   "cell_type": "code",
   "execution_count": null,
   "metadata": {},
   "outputs": [],
   "source": [
    "print(os.getcwd())"
   ]
  },
  {
   "cell_type": "code",
   "execution_count": null,
   "metadata": {},
   "outputs": [],
   "source": []
  },
  {
   "cell_type": "markdown",
   "metadata": {},
   "source": []
  },
  {
   "cell_type": "code",
   "execution_count": null,
   "metadata": {},
   "outputs": [],
   "source": [
    "print(os.listdir(dir))"
   ]
  },
  {
   "cell_type": "code",
   "execution_count": null,
   "metadata": {},
   "outputs": [],
   "source": [
    "\n",
    "autodockgpu_dir = \"/home/alexi/Documents/AutoDock-GPU/bin\"\n",
    "engine = \"CUDA_64\"\n",
    "\n",
    "autodockgpu = f\"autodock_{engine}wi\"\n",
    "auto_dock = os.path.join(autodockgpu_dir, autodockgpu)\n",
    "docked = []\n",
    "# for pdb in structures.PDBID:\n",
    "pdb=\"5UL8\"\n",
    "for lig in ligs:\n",
    "# for pdb in structures.PDBID:\n",
    "    # print(\"Docking \", lig, \" to \", pdb)\n",
    "    name = \"APO_\" +pdb + \"_ADT\"\n",
    "    pdb_name =  name + \".pdb\"\n",
    "    pdbqt_name = pdb_name.replace(\".pdb\", \".pdbqt\")\n",
    "    grid_name = lig +\"_\"+ pdbqt_name.replace(\".pdbqt\", \".gpf\")\n",
    "    grid_log = grid_name.replace(\".gpf\", \".glg\")\n",
    "\n",
    "    autogrid_command = [\"autogrid4\", \n",
    "                        \"-p\", grid_name, \n",
    "                        \"-l\", grid_log, \n",
    "                        \"-d\", f\"{lig}_{name}.maps.fld\",\n",
    "                        \"-o\", f\"{lig}_{name}.maps.map\",\n",
    "                        \"-v\"]\n",
    "\n",
    "    dock_name = lig +\"_\"+ pdbqt_name.replace(\".pdbqt\", \".dpf\")\n",
    "    dock_log = dock_name.replace(\".dpf\", \".dlg\")\n",
    "\n",
    "    autodock_command = [auto_dock, \n",
    "                        # \"-p\", dock_name, \n",
    "                        # \"-l\", dock_log, \n",
    "                        \"-M\",  f\"{lig}_{name}.maps.fld\", \n",
    "                        \"-L\", f\"{lig}.pdbqt\",\n",
    "                        \"--lsmet\", \"ad\",\n",
    "                        # \"--psize\", \"50\",\n",
    "                        # \"--nrun\", \"50\",\n",
    "                        \"-v\"]\n",
    "\n",
    "\n",
    "    dir = \"/home/alexi/Documents/SBL_MD_CovDock/topology/Dock\"\n",
    "    # print(os.listdir(dir))\n",
    "    try:\n",
    "        subprocess.run(autogrid_command, check=True,cwd=dir)\n",
    "        subprocess.run(autodock_command, check=True,cwd=dir)\n",
    "        print(\"Docking successful\")\n",
    "        docked.append((lig, pdb))\n",
    "    except:\n",
    "        pass\n",
    "    # break\n",
    "print(docked)"
   ]
  },
  {
   "cell_type": "code",
   "execution_count": null,
   "metadata": {},
   "outputs": [],
   "source": []
  },
  {
   "cell_type": "code",
   "execution_count": null,
   "metadata": {},
   "outputs": [],
   "source": [
    "print(docked)"
   ]
  },
  {
   "cell_type": "code",
   "execution_count": null,
   "metadata": {},
   "outputs": [],
   "source": []
  },
  {
   "cell_type": "code",
   "execution_count": null,
   "metadata": {},
   "outputs": [],
   "source": []
  }
 ],
 "metadata": {
  "kernelspec": {
   "display_name": "cuda_martini",
   "language": "python",
   "name": "python3"
  },
  "language_info": {
   "codemirror_mode": {
    "name": "ipython",
    "version": 3
   },
   "file_extension": ".py",
   "mimetype": "text/x-python",
   "name": "python",
   "nbconvert_exporter": "python",
   "pygments_lexer": "ipython3",
   "version": "3.8.16"
  },
  "orig_nbformat": 4
 },
 "nbformat": 4,
 "nbformat_minor": 2
}
