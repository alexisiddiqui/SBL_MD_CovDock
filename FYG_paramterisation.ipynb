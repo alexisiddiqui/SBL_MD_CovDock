{
 "cells": [
  {
   "cell_type": "code",
   "execution_count": 1,
   "metadata": {},
   "outputs": [],
   "source": [
    "### Ligand file creation - how exactly do we generate the SDF files for novel lignands?\n",
    "\n",
    "import os\n",
    "import subprocess\n",
    "from SBLMDCOVDOCK.SBLSettings import GROMACS_Settings\n",
    "import requests\n",
    "import pandas as pd\n",
    "settings = GROMACS_Settings()\n",
    "\n",
    "# AMPC - https://journals.asm.org/doi/10.1128/AAC.02073-20\n",
    "ampc = \"6T3D\"\n",
    "# KPC-2 - BLDB: http://dx.doi.org/10.1021/ACS.JMEDCHEM.7B00158\n",
    "kpc2 = \"5UL8\"\n",
    "# OXA-10 - BLDB: https://www.pnas.org/doi/full/10.1073/pnas.241442898\n",
    "oxa10 = \"1K55\"\n",
    "\n",
    "structures = pd.DataFrame({\"PDBID\": [ampc, kpc2, oxa10], \n",
    "                           \"Name\": [\"AmpC\", \"KPC2\", \"OXA10\"]})\n",
    "\n"
   ]
  },
  {
   "cell_type": "code",
   "execution_count": null,
   "metadata": {},
   "outputs": [],
   "source": []
  },
  {
   "cell_type": "code",
   "execution_count": 2,
   "metadata": {},
   "outputs": [
    {
     "name": "stdout",
     "output_type": "stream",
     "text": [
      "CIF file downloaded and saved to start_structures/APO/FYG/FYG.cif\n"
     ]
    }
   ],
   "source": [
    "# use: https://ambermd.org/tutorials/basic/tutorial5/index.php\n",
    "# only partially works with GAFF - doesnt generate charges.\n",
    "\n",
    "resname = \"FYG\"\n",
    "\n",
    "# download from PDB\n",
    "# \n",
    "link = f\"https://files.rcsb.org/ligands/download/{resname}.cif\"\n",
    "\n",
    "# download the file to FYG_dir\n",
    "\n",
    "FYG_dir = os.path.join(settings.structures_input, resname)\n",
    "\n",
    "# Check if the directory exists, if not, create it\n",
    "# if not os.path.exists(FYG_dir):\n",
    "os.makedirs(FYG_dir,exist_ok=True)\n",
    "\n",
    "# Download the CIF file and save it to the target directory\n",
    "cif_file_path = os.path.join(FYG_dir, f\"{resname}.cif\")\n",
    "response = requests.get(link)\n",
    "\n",
    "if response.status_code == 200:\n",
    "    with open(cif_file_path, \"wb\") as f:\n",
    "        f.write(response.content)\n",
    "    print(f\"CIF file downloaded and saved to {cif_file_path}\")\n",
    "else:\n",
    "    print(\"Failed to download the CIF file.\")"
   ]
  },
  {
   "cell_type": "code",
   "execution_count": 3,
   "metadata": {},
   "outputs": [],
   "source": [
    "# Change O\n"
   ]
  },
  {
   "cell_type": "code",
   "execution_count": 4,
   "metadata": {},
   "outputs": [
    {
     "name": "stdout",
     "output_type": "stream",
     "text": [
      "start_structures/APO/FYG\n",
      "antechamber -i FYG.cif -fi ccif -bk FYG -o FYG.mol2 -fo mol2 -c bcc -at amber -s 2 -nc 0\n",
      "\n",
      "Welcome to antechamber 22.0: molecular input file processor.\n",
      "\n",
      "Info: acdoctor mode is on: check and diagnose problems in the input file.\n",
      "Info: The atom type is set to amber; the options available to the -at flag are\n",
      "      gaff, gaff2, amber, bcc, and sybyl.\n",
      "\n",
      "Info: Determining atomic numbers from atomic symbols which are case sensitive.\n",
      "-- Check Unusual Elements --\n",
      "   Status: pass\n",
      "-- Check Open Valences --\n",
      "   Status: pass\n",
      "-- Check Geometry --\n",
      "      for those bonded   \n",
      "      for those not bonded   \n",
      "   Status: pass\n",
      "-- Check Weird Bonds --\n",
      "   Status: pass\n",
      "-- Check Number of Units --\n",
      "   Status: pass\n",
      "acdoctor mode has completed checking the input file.\n",
      "\n",
      "Running: /Users/alexi/miniconda/envs/RIN_test/bin/bondtype -j full -i ANTECHAMBER_BOND_TYPE.AC0 -o ANTECHAMBER_BOND_TYPE.AC -f ac\n",
      "\n",
      "Running: /Users/alexi/miniconda/envs/RIN_test/bin/atomtype -i ANTECHAMBER_AC.AC0 -o ANTECHAMBER_AC.AC -p amber\n",
      "Info: Total number of electrons: 138; net charge: 0\n",
      "\n",
      "Running: /Users/alexi/miniconda/envs/RIN_test/bin/sqm -O -i sqm.in -o sqm.out\n",
      "\n",
      "Running: /Users/alexi/miniconda/envs/RIN_test/bin/am1bcc -i ANTECHAMBER_AM1BCC_PRE.AC -o ANTECHAMBER_AM1BCC.AC -f ac -p /Users/alexi/miniconda/envs/RIN_test/dat/antechamber/BCCPARM.DAT -s 2 -j 1\n",
      "\n",
      "Running: /Users/alexi/miniconda/envs/RIN_test/bin/atomtype -f ac -p bcc -o ANTECHAMBER_AM1BCC.AC -i ANTECHAMBER_AM1BCC_PRE.AC\n",
      "\n"
     ]
    },
    {
     "data": {
      "text/plain": [
       "CompletedProcess(args=['antechamber', '-i', 'FYG.cif', '-fi', 'ccif', '-bk', 'FYG', '-o', 'FYG.mol2', '-fo', 'mol2', '-c', 'bcc', '-at', 'amber', '-s', '2', '-nc', '0'], returncode=0)"
      ]
     },
     "execution_count": 4,
     "metadata": {},
     "output_type": "execute_result"
    }
   ],
   "source": [
    "\n",
    "\n",
    "print(FYG_dir)\n",
    "\n",
    "cif_name = resname + \".cif\"\n",
    "\n",
    "antechamber_command = [\n",
    "    'antechamber',\n",
    "    '-i', cif_name,\n",
    "    '-fi', 'ccif',\n",
    "    \"-bk\", resname, # component block for ccif\n",
    "    '-o', cif_name.replace('.cif', '.mol2'),\n",
    "    '-fo', 'mol2',\n",
    "    '-c', 'bcc', # charge method\n",
    "    '-at', 'amber', # ff atom types\n",
    "    '-s', '2', # verbose\n",
    "    '-nc', '0'\n",
    "\n",
    "]\n",
    "\n",
    "print(\" \".join(antechamber_command))\n",
    "\n",
    "subprocess.run(antechamber_command, check=True, cwd=FYG_dir)"
   ]
  },
  {
   "cell_type": "code",
   "execution_count": 8,
   "metadata": {},
   "outputs": [
    {
     "name": "stdout",
     "output_type": "stream",
     "text": [
      "parmchk2 -i FYG_noHO.mol2 -f mol2 -o FYG_noHO.frcmod\n",
      "start_structures/APO/FYG\n"
     ]
    }
   ],
   "source": [
    "# edit mol2 to remove protonprint(FYG_dir)\n",
    "parkchk_command = [\"parmchk2\",\n",
    "                    \"-i\", resname + \"_noHO\" + \".mol2\",\n",
    "                    \"-f\", \"mol2\",\n",
    "                    \"-o\", resname + \"_noHO\" + '.frcmod',\n",
    "]\n",
    "\n",
    "print(\" \".join(parkchk_command))\n",
    "\n",
    "subprocess.run(parkchk_command, check=True, cwd=FYG_dir)\n",
    "print(FYG_dir)"
   ]
  },
  {
   "cell_type": "code",
   "execution_count": 7,
   "metadata": {},
   "outputs": [
    {
     "name": "stdout",
     "output_type": "stream",
     "text": [
      "start_structures/APO/FYG\n",
      "parmchk2 -i FYG.mol2 -f mol2 -o FYG.frcmod\n"
     ]
    },
    {
     "data": {
      "text/plain": [
       "CompletedProcess(args=['parmchk2', '-i', 'FYG.mol2', '-f', 'mol2', '-o', 'FYG.frcmod'], returncode=0)"
      ]
     },
     "execution_count": 7,
     "metadata": {},
     "output_type": "execute_result"
    }
   ],
   "source": [
    "print(FYG_dir)\n",
    "parkchk_command = [\"parmchk2\",\n",
    "                    \"-i\", cif_name.replace('.cif', '.mol2'),\n",
    "                    \"-f\", \"mol2\",\n",
    "                    \"-o\", cif_name.replace('.cif', '.frcmod'),\n",
    "]\n",
    "\n",
    "print(\" \".join(parkchk_command))\n",
    "\n",
    "subprocess.run(parkchk_command, check=True, cwd=FYG_dir)\n"
   ]
  },
  {
   "cell_type": "code",
   "execution_count": 48,
   "metadata": {},
   "outputs": [
    {
     "name": "stdout",
     "output_type": "stream",
     "text": [
      "start_structures/APO/FYG\n",
      "tleap -f  oldff/leaprc.ff14SB\n"
     ]
    }
   ],
   "source": [
    "ff_name = \"ff14SB\"\n",
    "print(FYG_dir)\n",
    "tleap_command = [\n",
    "    'tleap',\n",
    "    \"-f\", \" oldff/leaprc.\"+ff_name]\n",
    "print(\" \".join(tleap_command))"
   ]
  },
  {
   "cell_type": "code",
   "execution_count": 53,
   "metadata": {},
   "outputs": [
    {
     "name": "stdout",
     "output_type": "stream",
     "text": [
      "-I: Adding /Users/alexi/miniconda/envs/RIN_test/dat/leap/prep to search path.\n",
      "-I: Adding /Users/alexi/miniconda/envs/RIN_test/dat/leap/lib to search path.\n",
      "-I: Adding /Users/alexi/miniconda/envs/RIN_test/dat/leap/parm to search path.\n",
      "-I: Adding /Users/alexi/miniconda/envs/RIN_test/dat/leap/cmd to search path.\n",
      "-f: Source leap.in.\n",
      "\n",
      "Welcome to LEaP!\n",
      "(no leaprc in search path)\n",
      "Sourcing: ./leap.in\n",
      "----- Source: /Users/alexi/miniconda/envs/RIN_test/dat/leap/cmd/oldff/leaprc.ff14SB\n",
      "----- Source of /Users/alexi/miniconda/envs/RIN_test/dat/leap/cmd/oldff/leaprc.ff14SB done\n",
      "Log file: ./leap.log\n",
      "Loading parameters: /Users/alexi/miniconda/envs/RIN_test/dat/leap/parm/parm10.dat\n",
      "Reading title:\n",
      "PARM99 + frcmod.ff99SB + frcmod.parmbsc0 + OL3 for RNA\n",
      "Loading parameters: /Users/alexi/miniconda/envs/RIN_test/dat/leap/parm/frcmod.ff14SB\n",
      "Reading force field modification type file (frcmod)\n",
      "Reading title:\n",
      "ff14SB protein backbone and sidechain parameters\n",
      "Loading library: /Users/alexi/miniconda/envs/RIN_test/dat/leap/lib/amino12.lib\n",
      "Loading library: /Users/alexi/miniconda/envs/RIN_test/dat/leap/lib/aminoct12.lib\n",
      "Loading library: /Users/alexi/miniconda/envs/RIN_test/dat/leap/lib/aminont12.lib\n",
      "Loading library: /Users/alexi/miniconda/envs/RIN_test/dat/leap/lib/nucleic12.lib\n",
      "Loading library: /Users/alexi/miniconda/envs/RIN_test/dat/leap/lib/atomic_ions.lib\n",
      "Loading library: /Users/alexi/miniconda/envs/RIN_test/dat/leap/lib/solvents.lib\n",
      "----- Source: /Users/alexi/miniconda/envs/RIN_test/dat/leap/cmd/leaprc.gaff\n",
      "----- Source of /Users/alexi/miniconda/envs/RIN_test/dat/leap/cmd/leaprc.gaff done\n",
      "Log file: ./leap.log\n",
      "Loading parameters: /Users/alexi/miniconda/envs/RIN_test/dat/leap/parm/gaff.dat\n",
      "Reading title:\n",
      "AMBER General Force Field for organic molecules (Version 1.81, May 2017)\n",
      "Loading Mol2 file: ./FYG.mol2\n",
      "Reading MOLECULE named FYG\n",
      "Loading parameters: ./FYG.frcmod\n",
      "Reading force field modification type file (frcmod)\n",
      "Reading title:\n",
      "Remark line goes here\n",
      "Checking 'FYG'....\n",
      "Checking parameters for unit 'FYG'.\n",
      "Checking for bond parameters.\n",
      "Checking for angle parameters.\n",
      "Unit is OK.\n",
      "Building topology.\n",
      "Building atom parameters.\n",
      "Checking Unit.\n",
      "Building topology.\n",
      "Building atom parameters.\n",
      "Building bond parameters.\n",
      "Building angle parameters.\n",
      "Building proper torsion parameters.\n",
      "Building improper torsion parameters.\n",
      " total 5 improper torsions applied\n",
      "Building H-Bond parameters.\n",
      "Incorporating Non-Bonded adjustments.\n",
      "Not Marking per-residue atom chain types.\n",
      "Marking per-residue atom chain types.\n",
      "  (Residues lacking connect0/connect1 - \n",
      "   these don't have chain types marked:\n",
      "\n",
      "\tres\ttotal affected\n",
      "\n",
      "\tFYG\t1\n",
      "  )\n",
      " (no restraints)\n",
      "Writing pdb file: FYG.pdb\n",
      "\tQuit\n",
      "\n",
      "Exiting LEaP: Errors = 0; Warnings = 0; Notes = 0.\n",
      "source oldff/leaprc.ff14SB\n",
      "source leaprc.gaff\n",
      "FYG = loadmol2 FYG.mol2\n",
      "loadamberparams FYG.frcmod\n",
      "check FYG\n",
      "saveoff FYG FYG.lib\n",
      "saveamberparm FYG FYG.prmtop FYG.inpcrd\n",
      "savepdb FYG FYG.pdb\n",
      "quit\n"
     ]
    }
   ],
   "source": [
    "leap_commands = [\n",
    "    \"source oldff/leaprc.\"+ff_name,\n",
    "    \"source leaprc.gaff\",\n",
    "    f\"{resname} = loadmol2 {resname}.mol2\",\n",
    "    f\"loadamberparams {resname}.frcmod\",\n",
    "    f\"check {resname}\",\n",
    "    f\"saveoff {resname} {resname}.lib\",\n",
    "    f\"saveamberparm {resname} {resname}.prmtop {resname}.inpcrd\",\n",
    "    f\"savepdb {resname} {resname}.pdb\",\n",
    "    \"quit\"\n",
    "]\n",
    "\n",
    "leap_file = \"\\n\".join(leap_commands)\n",
    "\n",
    "with open(os.path.join(FYG_dir, \"leap.in\"), \"w+\") as f:\n",
    "    f.write(leap_file)\n",
    "tleap_command = [\"tleap\", \"-f\", \"leap.in\"]\n",
    "\n",
    "subprocess.run(tleap_command,cwd=FYG_dir,check=True)\n",
    "\n",
    "for command in leap_commands:\n",
    "    print(command)"
   ]
  },
  {
   "cell_type": "code",
   "execution_count": 57,
   "metadata": {},
   "outputs": [
    {
     "name": "stdout",
     "output_type": "stream",
     "text": [
      "6T3D\n",
      "start_structures/APO/APO_6T3D_chimeraFH_CYX.pdb\n",
      "start_structures/APO/FYG_6T3D_chimeraFH_CYX.pdb\n",
      "5UL8\n",
      "start_structures/APO/APO_5UL8_chimeraFH_CYX.pdb\n",
      "start_structures/APO/FYG_5UL8_chimeraFH_CYX.pdb\n",
      "1K55\n",
      "start_structures/APO/APO_1K55_chimeraFH_CYX.pdb\n",
      "start_structures/APO/FYG_1K55_chimeraFH_CYX.pdb\n"
     ]
    }
   ],
   "source": [
    "### Add Ligand to structure\n",
    "for pdb in structures.PDBID:\n",
    "    print(pdb)\n",
    "    pdb_name = \"APO_\" + pdb + \"_chimeraFH\" + \"_CYX\"+ \".pdb\"\n",
    "    pdb_path = os.path.join(settings.structures_input, pdb_name)\n",
    "    print(pdb_path)\n",
    "\n",
    "    ligand_name = resname + \".pdb\"\n",
    "    ligand_path = os.path.join(FYG_dir, ligand_name)\n",
    "    \n",
    "    FYG_name = f\"{resname}_\" + pdb + \"_chimeraFH\" + \"_CYX\"+ \".pdb\"\n",
    "    FYG_path = os.path.join(settings.structures_input, FYG_name)\n",
    "    print(FYG_path)\n",
    "\n",
    "    # load the protein structure\n",
    "    with open(pdb_path, \"r\") as f:\n",
    "        pdb_file = f.readlines()\n",
    "\n",
    "    # load the ligand structure\n",
    "    with open(ligand_path, \"r\") as f:\n",
    "        ligand_file = f.readlines()\n",
    "\n",
    "    # add the ligand to the protein structure\n",
    "    with open(FYG_path, \"w+\") as f:\n",
    "        f.writelines(pdb_file)\n",
    "        f.writelines(ligand_file)\n",
    "        \n",
    "    \n",
    "\n",
    "    "
   ]
  },
  {
   "cell_type": "code",
   "execution_count": null,
   "metadata": {},
   "outputs": [],
   "source": [
    "for pdb in structures.PDBID:\n",
    "    print(pdb)\n",
    "    pdb_name = \"APO_\" + \"_chimeraFH\" + \"_CYX\"+ \".pdb\"\n",
    "    print(pdb_name)\n",
    "    output_pdb = resname + \"_\" + pdb + \".pdb\"\n",
    "\n",
    "    leap_file = f\"\"\"\n",
    "    source leaprc.gaff\n",
    "    loadamberparams {resname}.frcmod\n",
    "    loadoff {resname}.lib\n",
    "    complex = loadpdb {pdb_name}\n",
    "    saveamberparm complex {output_pdb.replace(\".pdb\", \".prmtop\")} {output_pdb.replace(\".pdb\", \".inpcrd\")} {output_pdb.replace(\".pdb\", \".rst7\")}\n",
    "    savepdb complex {output_pdb}\n",
    "    quit\n",
    "    \"\"\"\n",
    "\n",
    "    with open(os.path.join(FYG_dir, \"leap.in\"), \"w+\") as f:\n",
    "        f.write(leap_file)\n",
    "    \n",
    "    leap_command = [\n",
    "        'tleap',\n",
    "        \"-f\", \"leap.in\"]\n",
    "    print(\" \".join(leap_command))\n",
    "    subprocess.run(leap_command, check=True, cwd=FYG_dir)\n",
    "    \n",
    "\n"
   ]
  },
  {
   "cell_type": "code",
   "execution_count": null,
   "metadata": {},
   "outputs": [],
   "source": []
  },
  {
   "cell_type": "code",
   "execution_count": null,
   "metadata": {},
   "outputs": [],
   "source": []
  },
  {
   "cell_type": "code",
   "execution_count": null,
   "metadata": {},
   "outputs": [],
   "source": [
    "# find\n",
    "!open $AMBERHOME"
   ]
  },
  {
   "cell_type": "code",
   "execution_count": null,
   "metadata": {},
   "outputs": [],
   "source": [
    "# adapt parmchk2 -i cro.prepin -f prepi -o frcmod.cro -a Y -p $AMBERHOME/dat/leap/parm/parm10.dat\n",
    "\n",
    "ff_dat = \"parm19.dat\"\n",
    "\n",
    "parmchk_command = [\n",
    "    \"parmchk2\",\n",
    "    \"-i\", resname + \".prepin\",\n",
    "    \"-f\", \"prepi\",\n",
    "    \"-o\", \"frcmod.\" + resname,\n",
    "    \"-a\", \"Y\",\n",
    "    \"-p\", os.environ[\"AMBERHOME\"]+\"/dat/leap/parm/\"+ ff_dat\n",
    "]\n",
    "\n",
    "print(\" \".join(parmchk_command))\n",
    "subprocess.run(parmchk_command, check=True, cwd=KCX_dir)"
   ]
  },
  {
   "cell_type": "code",
   "execution_count": null,
   "metadata": {},
   "outputs": [],
   "source": [
    "# strip out ATTN lines\n",
    "\n",
    "# ! grep -v \"ATTN\" {\"frcmod.\"+resname} > {\"frcmod1.\"+resname} # Strip out ATTN lines\n",
    "\n",
    "grep_command = [\n",
    "    \"grep\", \"-v\", \"ATTN\",\n",
    "    os.path.join(KCX_dir, \"frcmod.\"+resname),\n",
    "    \">\", os.path.join(KCX_dir, \"frcmod1.\"+resname)\n",
    "]\n",
    "\n",
    "# Run grep command\n",
    "print(\" \".join(grep_command))\n",
    "! {\" \".join(grep_command)}\n",
    "# subprocess.run(grep_command, check=True)"
   ]
  },
  {
   "cell_type": "code",
   "execution_count": null,
   "metadata": {},
   "outputs": [],
   "source": [
    "# GAFF parameters for ligands\n",
    "# adapt parmchk2 -i cro.prepin -f prepi -o frcmod.cro \n",
    "\n",
    "\n",
    "parmchk_command = [\n",
    "    \"parmchk2\",\n",
    "    \"-i\", resname + \".prepin\",\n",
    "    \"-f\", \"prepi\",\n",
    "    \"-o\", \"frcmod2.\" + resname,\n",
    "    # \"-a\", \"Y\",\n",
    "    # \"-p\", os.environ[\"AMBERHOME\"]+\"/dat/leap/parm/\"+ ff_dat\n",
    "]\n",
    "\n",
    "print(\" \".join(parmchk_command))\n",
    "subprocess.run(parmchk_command, check=True, cwd=KCX_dir)"
   ]
  },
  {
   "cell_type": "code",
   "execution_count": null,
   "metadata": {},
   "outputs": [],
   "source": [
    "\n",
    "leap_file = f\"\"\"source leaprc.protein.ff19SB\n",
    "set default PBRadii mbondi3\n",
    "loadAmberPrep {resname}.prepin\n",
    "loadAmberParams frcmod2.{resname}\n",
    "loadAmberParams frcmod1.{resname}\n",
    "x = loadPDB gfp.pdb\n",
    "saveAmberParm x gfp.parm7 gfp.rst7\n",
    "quit\n",
    "\"\"\""
   ]
  }
 ],
 "metadata": {
  "kernelspec": {
   "display_name": "RIN_test",
   "language": "python",
   "name": "python3"
  },
  "language_info": {
   "codemirror_mode": {
    "name": "ipython",
    "version": 3
   },
   "file_extension": ".py",
   "mimetype": "text/x-python",
   "name": "python",
   "nbconvert_exporter": "python",
   "pygments_lexer": "ipython3",
   "version": "3.8.17"
  },
  "orig_nbformat": 4
 },
 "nbformat": 4,
 "nbformat_minor": 2
}
