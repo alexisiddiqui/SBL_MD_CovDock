{
 "cells": [
  {
   "cell_type": "code",
   "execution_count": null,
   "metadata": {},
   "outputs": [],
   "source": [
    "### Ligand file creation - how exactly do we generate the SDF files for novel lignands?\n",
    "\n",
    "import os\n",
    "import subprocess\n",
    "from SBLMDCOVDOCK.SBLSettings import GROMACS_Settings\n",
    "import requests\n",
    "settings = GROMACS_Settings()"
   ]
  },
  {
   "cell_type": "code",
   "execution_count": null,
   "metadata": {},
   "outputs": [],
   "source": []
  },
  {
   "cell_type": "code",
   "execution_count": null,
   "metadata": {},
   "outputs": [],
   "source": [
    "# use: https://ambermd.org/tutorials/basic/tutorial5/index.php\n",
    "# only partially works with GAFF - doesnt generate charges.\n",
    "\n",
    "resname = \"KCX\"\n",
    "\n",
    "# download from PDB\n",
    "# \n",
    "link = f\"https://files.rcsb.org/ligands/download/{resname}.cif\"\n",
    "\n",
    "# download the file to KCX_dir\n",
    "\n",
    "KCX_dir = os.path.join(settings.structures_input, resname)\n",
    "\n",
    "# Check if the directory exists, if not, create it\n",
    "if not os.path.exists(KCX_dir):\n",
    "    os.makedirs(KCX_dir)\n",
    "\n",
    "# Download the CIF file and save it to the target directory\n",
    "cif_file_path = os.path.join(KCX_dir, f\"{resname}.cif\")\n",
    "response = requests.get(link)\n",
    "\n",
    "if response.status_code == 200:\n",
    "    with open(cif_file_path, \"wb\") as f:\n",
    "        f.write(response.content)\n",
    "    print(f\"CIF file downloaded and saved to {cif_file_path}\")\n",
    "else:\n",
    "    print(\"Failed to download the CIF file.\")"
   ]
  },
  {
   "cell_type": "code",
   "execution_count": null,
   "metadata": {},
   "outputs": [],
   "source": [
    "\n"
   ]
  },
  {
   "cell_type": "code",
   "execution_count": null,
   "metadata": {},
   "outputs": [],
   "source": [
    "\n",
    "\n",
    "print(KCX_dir)\n",
    "\n",
    "KCX_cif_path = os.path.join(KCX_dir, resname+'.cif')\n",
    "\n",
    "antechamber_command = [\n",
    "    'antechamber',\n",
    "    '-i', KCX_cif_path,\n",
    "    '-fi', 'ccif',\n",
    "    \"-bk\", resname, # component block for ccif\n",
    "    '-o', KCX_cif_path.replace('.cif', '.ac'),\n",
    "    '-fo', 'ac',\n",
    "    '-c', 'bcc', # charge method\n",
    "    '-at', 'amber', # ff atom types\n",
    "    '-s', '2', # verbose\n",
    "    '-nc', '0'\n",
    "\n",
    "]\n",
    "\n",
    "print(\" \".join(antechamber_command))\n",
    "\n",
    "subprocess.run(antechamber_command, check=True)"
   ]
  },
  {
   "cell_type": "code",
   "execution_count": null,
   "metadata": {},
   "outputs": [],
   "source": [
    "KCX_mc = \"\"\"\n",
    "HEAD_NAME N\n",
    "TAIL_NAME C\n",
    "MAIN_CHAIN CA\n",
    "MAIN_CHAIN CB\n",
    "MAIN_CHAIN CG\n",
    "MAIN_CHAIN CD\n",
    "MAIN_CHAIN CE\n",
    "MAIN_CHAIN NZ\n",
    "MAIN_CHAIN CX\n",
    "MAIN_CHAIN OQ1\n",
    "MAIN_CHAIN OQ2\n",
    "OMIT_NAME HN2\n",
    "OMIT_NAME OXT\n",
    "OMIT_NAME HXT\n",
    "OMIT_NAME HQ2\n",
    "PRE_HEAD_TYPE C\n",
    "POST_TAIL_TYPE N\n",
    "CHARGE -1.0\n",
    "\"\"\"\n",
    "\n",
    "KCX_mc = \"\"\"\n",
    "HEAD_NAME N\n",
    "TAIL_NAME C\n",
    "MAIN_CHAIN CA\n",
    "OMIT_NAME HN2\n",
    "OMIT_NAME OXT\n",
    "OMIT_NAME HXT\n",
    "OMIT_NAME HQ2\n",
    "PRE_HEAD_TYPE C\n",
    "POST_TAIL_TYPE N\n",
    "CHARGE -1.0\n",
    "\"\"\"\n",
    "\n",
    "path = os.path.join(KCX_dir, resname+'.mc')\n",
    "print(path)\n",
    "with open(path, 'w') as f:\n",
    "    f.write(KCX_mc)\n",
    "\n"
   ]
  },
  {
   "cell_type": "markdown",
   "metadata": {},
   "source": []
  },
  {
   "cell_type": "code",
   "execution_count": null,
   "metadata": {},
   "outputs": [],
   "source": [
    "\n",
    "prepgen_command = [\n",
    "    \"prepgen\",\n",
    "    \"-i\", resname+'.ac',\n",
    "    \"-o\", resname+'.prepin',\n",
    "    \"-m\", resname+'.mc',\n",
    "    \"-rn\", resname,\n",
    "]\n",
    "    \n",
    "print(\" \".join(prepgen_command))\n",
    "subprocess.run(prepgen_command, check=True, cwd=KCX_dir)"
   ]
  },
  {
   "cell_type": "code",
   "execution_count": null,
   "metadata": {},
   "outputs": [],
   "source": []
  },
  {
   "cell_type": "code",
   "execution_count": null,
   "metadata": {},
   "outputs": [],
   "source": [
    "# find\n",
    "!open $AMBERHOME"
   ]
  },
  {
   "cell_type": "code",
   "execution_count": null,
   "metadata": {},
   "outputs": [],
   "source": [
    "# adapt parmchk2 -i cro.prepin -f prepi -o frcmod.cro -a Y -p $AMBERHOME/dat/leap/parm/parm10.dat\n",
    "\n",
    "ff_dat = \"parm19.dat\"\n",
    "\n",
    "parmchk_command = [\n",
    "    \"parmchk2\",\n",
    "    \"-i\", resname + \".prepin\",\n",
    "    \"-f\", \"prepi\",\n",
    "    \"-o\", \"frcmod.\" + resname,\n",
    "    \"-a\", \"Y\",\n",
    "    \"-p\", os.environ[\"AMBERHOME\"]+\"/dat/leap/parm/\"+ ff_dat\n",
    "]\n",
    "\n",
    "print(\" \".join(parmchk_command))\n",
    "subprocess.run(parmchk_command, check=True, cwd=KCX_dir)"
   ]
  },
  {
   "cell_type": "code",
   "execution_count": null,
   "metadata": {},
   "outputs": [],
   "source": [
    "# strip out ATTN lines\n",
    "\n",
    "# ! grep -v \"ATTN\" {\"frcmod.\"+resname} > {\"frcmod1.\"+resname} # Strip out ATTN lines\n",
    "\n",
    "grep_command = [\n",
    "    \"grep\", \"-v\", \"ATTN\",\n",
    "    os.path.join(KCX_dir, \"frcmod.\"+resname),\n",
    "    \">\", os.path.join(KCX_dir, \"frcmod1.\"+resname)\n",
    "]\n",
    "\n",
    "# Run grep command\n",
    "print(\" \".join(grep_command))\n",
    "! {\" \".join(grep_command)}\n",
    "# subprocess.run(grep_command, check=True)"
   ]
  },
  {
   "cell_type": "code",
   "execution_count": null,
   "metadata": {},
   "outputs": [],
   "source": [
    "# GAFF parameters for ligands\n",
    "# adapt parmchk2 -i cro.prepin -f prepi -o frcmod.cro \n",
    "\n",
    "\n",
    "parmchk_command = [\n",
    "    \"parmchk2\",\n",
    "    \"-i\", resname + \".prepin\",\n",
    "    \"-f\", \"prepi\",\n",
    "    \"-o\", \"frcmod2.\" + resname,\n",
    "    # \"-a\", \"Y\",\n",
    "    # \"-p\", os.environ[\"AMBERHOME\"]+\"/dat/leap/parm/\"+ ff_dat\n",
    "]\n",
    "\n",
    "print(\" \".join(parmchk_command))\n",
    "subprocess.run(parmchk_command, check=True, cwd=KCX_dir)"
   ]
  },
  {
   "cell_type": "code",
   "execution_count": null,
   "metadata": {},
   "outputs": [],
   "source": [
    "\n",
    "leap_file = f\"\"\"source leaprc.protein.ff19SB\n",
    "set default PBRadii mbondi3\n",
    "loadAmberPrep {resname}.prepin\n",
    "loadAmberParams frcmod2.{resname}\n",
    "loadAmberParams frcmod1.{resname}\n",
    "x = loadPDB gfp.pdb\n",
    "saveAmberParm x gfp.parm7 gfp.rst7\n",
    "quit\n",
    "\"\"\""
   ]
  }
 ],
 "metadata": {
  "kernelspec": {
   "display_name": "RIN_test",
   "language": "python",
   "name": "python3"
  },
  "language_info": {
   "codemirror_mode": {
    "name": "ipython",
    "version": 3
   },
   "file_extension": ".py",
   "mimetype": "text/x-python",
   "name": "python",
   "nbconvert_exporter": "python",
   "pygments_lexer": "ipython3",
   "version": "3.8.17"
  },
  "orig_nbformat": 4
 },
 "nbformat": 4,
 "nbformat_minor": 2
}
