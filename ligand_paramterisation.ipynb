{
 "cells": [
  {
   "cell_type": "code",
   "execution_count": 19,
   "metadata": {},
   "outputs": [],
   "source": [
    "### Ligand file creation - how exactly do we generate the SDF files for novel lignands?\n",
    "\n",
    "import os\n",
    "import subprocess\n",
    "from SBLMDCOVDOCK.SBLSettings import GROMACS_Settings\n",
    "import requests\n",
    "settings = GROMACS_Settings()"
   ]
  },
  {
   "cell_type": "code",
   "execution_count": null,
   "metadata": {},
   "outputs": [],
   "source": []
  },
  {
   "cell_type": "code",
   "execution_count": 20,
   "metadata": {},
   "outputs": [
    {
     "name": "stdout",
     "output_type": "stream",
     "text": [
      "CIF file downloaded and saved to start_structures/APO/KCX/KCX.cif\n"
     ]
    }
   ],
   "source": [
    "# use: https://ambermd.org/tutorials/basic/tutorial5/index.php\n",
    "# only partially works with GAFF - doesnt generate charges.\n",
    "\n",
    "resname = \"KCX\"\n",
    "\n",
    "# download from PDB\n",
    "# \n",
    "link = f\"https://files.rcsb.org/ligands/download/{resname}.cif\"\n",
    "\n",
    "# download the file to KCX_dir\n",
    "\n",
    "KCX_dir = os.path.join(settings.structures_input, resname)\n",
    "\n",
    "# Check if the directory exists, if not, create it\n",
    "if not os.path.exists(KCX_dir):\n",
    "    os.makedirs(KCX_dir)\n",
    "\n",
    "# Download the CIF file and save it to the target directory\n",
    "cif_file_path = os.path.join(KCX_dir, f\"{resname}.cif\")\n",
    "response = requests.get(link)\n",
    "\n",
    "if response.status_code == 200:\n",
    "    with open(cif_file_path, \"wb\") as f:\n",
    "        f.write(response.content)\n",
    "    print(f\"CIF file downloaded and saved to {cif_file_path}\")\n",
    "else:\n",
    "    print(\"Failed to download the CIF file.\")"
   ]
  },
  {
   "cell_type": "code",
   "execution_count": 13,
   "metadata": {},
   "outputs": [],
   "source": [
    "\n"
   ]
  },
  {
   "cell_type": "code",
   "execution_count": 17,
   "metadata": {},
   "outputs": [
    {
     "name": "stdout",
     "output_type": "stream",
     "text": [
      "start_structures/APO/KCX\n",
      "antechamber -i start_structures/APO/KCX/KCX.cif -fi ccif -bk KCX -o start_structures/APO/KCX/KCX.ac -fo ac -c bcc -at amber -s 2 -nc 0\n",
      "\n",
      "Welcome to antechamber 22.0: molecular input file processor.\n",
      "\n",
      "Info: acdoctor mode is on: check and diagnose problems in the input file.\n",
      "Info: The atom type is set to amber; the options available to the -at flag are\n",
      "      gaff, gaff2, amber, bcc, and sybyl.\n",
      "\n",
      "Info: Determining atomic numbers from atomic symbols which are case sensitive.\n",
      "-- Check Unusual Elements --\n",
      "   Status: pass\n",
      "-- Check Open Valences --\n",
      "   Status: pass\n",
      "-- Check Geometry --\n",
      "      for those bonded   \n",
      "      for those not bonded   \n",
      "   Status: pass\n",
      "-- Check Weird Bonds --\n",
      "   Status: pass\n",
      "-- Check Number of Units --\n",
      "   Status: pass\n",
      "acdoctor mode has completed checking the input file.\n",
      "\n",
      "Running: /Users/alexi/miniconda/envs/RIN_test/bin/bondtype -j full -i ANTECHAMBER_BOND_TYPE.AC0 -o ANTECHAMBER_BOND_TYPE.AC -f ac\n",
      "\n",
      "Running: /Users/alexi/miniconda/envs/RIN_test/bin/atomtype -i ANTECHAMBER_AC.AC0 -o ANTECHAMBER_AC.AC -p amber\n",
      "Info: Total number of electrons: 102; net charge: 0\n",
      "\n",
      "Running: /Users/alexi/miniconda/envs/RIN_test/bin/sqm -O -i sqm.in -o sqm.out\n"
     ]
    },
    {
     "name": "stderr",
     "output_type": "stream",
     "text": [
      "/Users/alexi/miniconda/envs/RIN_test/bin/wrapped_progs/antechamber: Non Fatal Error!\n",
      "Residue (KCX) has a type of LINKING.\n",
      "    This linking monomer will likely become part of a polymer\n",
      "    and thus probably requires special handling beyond antechamber.\n",
      "Ignore this error only if you know what you are doing.\n",
      "\n"
     ]
    },
    {
     "name": "stdout",
     "output_type": "stream",
     "text": [
      "\n",
      "Running: /Users/alexi/miniconda/envs/RIN_test/bin/am1bcc -i ANTECHAMBER_AM1BCC_PRE.AC -o ANTECHAMBER_AM1BCC.AC -f ac -p /Users/alexi/miniconda/envs/RIN_test/dat/antechamber/BCCPARM.DAT -s 2 -j 1\n",
      "\n",
      "Running: /Users/alexi/miniconda/envs/RIN_test/bin/atomtype -f ac -p bcc -o ANTECHAMBER_AM1BCC.AC -i ANTECHAMBER_AM1BCC_PRE.AC\n",
      "\n"
     ]
    },
    {
     "data": {
      "text/plain": [
       "CompletedProcess(args=['antechamber', '-i', 'start_structures/APO/KCX/KCX.cif', '-fi', 'ccif', '-bk', 'KCX', '-o', 'start_structures/APO/KCX/KCX.ac', '-fo', 'ac', '-c', 'bcc', '-at', 'amber', '-s', '2', '-nc', '0'], returncode=0)"
      ]
     },
     "execution_count": 17,
     "metadata": {},
     "output_type": "execute_result"
    }
   ],
   "source": [
    "\n",
    "\n",
    "print(KCX_dir)\n",
    "\n",
    "KCX_cif_path = os.path.join(KCX_dir, resname+'.cif')\n",
    "\n",
    "antechamber_command = [\n",
    "    'antechamber',\n",
    "    '-i', KCX_cif_path,\n",
    "    '-fi', 'ccif',\n",
    "    \"-bk\", resname, # component block for ccif\n",
    "    '-o', KCX_cif_path.replace('.cif', '.ac'),\n",
    "    '-fo', 'ac',\n",
    "    '-c', 'bcc', # charge method\n",
    "    '-at', 'amber', # ff atom types\n",
    "    '-s', '2', # verbose\n",
    "    '-nc', '0'\n",
    "\n",
    "]\n",
    "\n",
    "print(\" \".join(antechamber_command))\n",
    "\n",
    "subprocess.run(antechamber_command, check=True)"
   ]
  },
  {
   "cell_type": "code",
   "execution_count": 29,
   "metadata": {},
   "outputs": [
    {
     "name": "stdout",
     "output_type": "stream",
     "text": [
      "start_structures/APO/KCX/KCX.mc\n"
     ]
    }
   ],
   "source": [
    "KCX_mc = \"\"\"\n",
    "HEAD_NAME N\n",
    "TAIL_NAME C\n",
    "MAIN_CHAIN CA\n",
    "MAIN_CHAIN CB\n",
    "MAIN_CHAIN CG\n",
    "MAIN_CHAIN CD\n",
    "MAIN_CHAIN CE\n",
    "MAIN_CHAIN NZ\n",
    "MAIN_CHAIN CX\n",
    "MAIN_CHAIN OQ1\n",
    "MAIN_CHAIN OQ2\n",
    "OMIT_NAME HN2\n",
    "OMIT_NAME OXT\n",
    "OMIT_NAME HXT\n",
    "OMIT_NAME HQ2\n",
    "PRE_HEAD_TYPE C\n",
    "POST_TAIL_TYPE N\n",
    "CHARGE -1.0\n",
    "\"\"\"\n",
    "\n",
    "KCX_mc = \"\"\"\n",
    "HEAD_NAME N\n",
    "TAIL_NAME C\n",
    "MAIN_CHAIN CA\n",
    "OMIT_NAME HN2\n",
    "OMIT_NAME OXT\n",
    "OMIT_NAME HXT\n",
    "OMIT_NAME HQ2\n",
    "PRE_HEAD_TYPE C\n",
    "POST_TAIL_TYPE N\n",
    "CHARGE -1.0\n",
    "\"\"\"\n",
    "\n",
    "path = os.path.join(KCX_dir, resname+'.mc')\n",
    "print(path)\n",
    "with open(path, 'w') as f:\n",
    "    f.write(KCX_mc)\n",
    "\n"
   ]
  },
  {
   "cell_type": "markdown",
   "metadata": {},
   "source": []
  },
  {
   "cell_type": "code",
   "execution_count": 30,
   "metadata": {},
   "outputs": [
    {
     "name": "stdout",
     "output_type": "stream",
     "text": [
      "prepgen -i KCX.ac -o KCX.prepin -m KCX.mc -rn KCX\n",
      "\n",
      "PRE_HEAD_TYPE is     C\n",
      "POST_TAIL_TYPE is     N\n",
      "Net charge of truncated molecule is    -1.00\n",
      "HEAD_ATOM      1    N\n",
      "TAIL_ATOM      8    C\n",
      "MAIN_CHAIN     1    1    N\n",
      "MAIN_CHAIN     2    2   CA\n",
      "MAIN_CHAIN     3    3   CB\n",
      "MAIN_CHAIN     4    4   CG\n",
      "MAIN_CHAIN     5    5   CD\n",
      "MAIN_CHAIN     6    6   CE\n",
      "MAIN_CHAIN     7    7   NZ\n",
      "MAIN_CHAIN     8   10   CX\n",
      "MAIN_CHAIN     9   12  OQ1\n",
      "MAIN_CHAIN    10   13  OQ2\n",
      "MAIN_CHAIN    11    8    C\n",
      "OMIT_ATOM      1   15  HN2\n",
      "OMIT_ATOM      2   11  OXT\n",
      "OMIT_ATOM      3   26  HXT\n",
      "OMIT_ATOM      4   27  HQ2\n",
      "Number of mainchain atoms (including head and tail atom):    11\n",
      "Number of omited atoms:     4\n",
      "Info: There is a bond linking a non-head and non-tail residue atom (OQ2) and an omitted atom (HQ2).\n",
      "      You need to specifically add this bond in LEaP using the command 'bond <atom1> <atom2> [order]'\n",
      "      to link OQ2 to an atom in another residue (similar to disulfide bonds)!\n"
     ]
    },
    {
     "data": {
      "text/plain": [
       "CompletedProcess(args=['prepgen', '-i', 'KCX.ac', '-o', 'KCX.prepin', '-m', 'KCX.mc', '-rn', 'KCX'], returncode=0)"
      ]
     },
     "execution_count": 30,
     "metadata": {},
     "output_type": "execute_result"
    }
   ],
   "source": [
    "\n",
    "prepgen_command = [\n",
    "    \"prepgen\",\n",
    "    \"-i\", resname+'.ac',\n",
    "    \"-o\", resname+'.prepin',\n",
    "    \"-m\", resname+'.mc',\n",
    "    \"-rn\", resname,\n",
    "]\n",
    "    \n",
    "print(\" \".join(prepgen_command))\n",
    "subprocess.run(prepgen_command, check=True, cwd=KCX_dir)"
   ]
  },
  {
   "cell_type": "code",
   "execution_count": 36,
   "metadata": {},
   "outputs": [],
   "source": []
  },
  {
   "cell_type": "code",
   "execution_count": null,
   "metadata": {},
   "outputs": [],
   "source": [
    "# find\n",
    "!open $AMBERHOME"
   ]
  },
  {
   "cell_type": "code",
   "execution_count": 51,
   "metadata": {},
   "outputs": [
    {
     "name": "stdout",
     "output_type": "stream",
     "text": [
      "parmchk2 -i KCX.prepin -f prepi -o frcmod.KCX -a Y -p /Users/alexi/miniconda/envs/RIN_test/dat/leap/parm/parm19.dat\n"
     ]
    },
    {
     "data": {
      "text/plain": [
       "CompletedProcess(args=['parmchk2', '-i', 'KCX.prepin', '-f', 'prepi', '-o', 'frcmod.KCX', '-a', 'Y', '-p', '/Users/alexi/miniconda/envs/RIN_test/dat/leap/parm/parm19.dat'], returncode=0)"
      ]
     },
     "execution_count": 51,
     "metadata": {},
     "output_type": "execute_result"
    }
   ],
   "source": [
    "# adapt parmchk2 -i cro.prepin -f prepi -o frcmod.cro -a Y -p $AMBERHOME/dat/leap/parm/parm10.dat\n",
    "\n",
    "ff_dat = \"parm19.dat\"\n",
    "\n",
    "parmchk_command = [\n",
    "    \"parmchk2\",\n",
    "    \"-i\", resname + \".prepin\",\n",
    "    \"-f\", \"prepi\",\n",
    "    \"-o\", \"frcmod.\" + resname,\n",
    "    \"-a\", \"Y\",\n",
    "    \"-p\", os.environ[\"AMBERHOME\"]+\"/dat/leap/parm/\"+ ff_dat\n",
    "]\n",
    "\n",
    "print(\" \".join(parmchk_command))\n",
    "subprocess.run(parmchk_command, check=True, cwd=KCX_dir)"
   ]
  },
  {
   "cell_type": "code",
   "execution_count": 52,
   "metadata": {},
   "outputs": [
    {
     "name": "stdout",
     "output_type": "stream",
     "text": [
      "grep -v ATTN start_structures/APO/KCX/frcmod.KCX > start_structures/APO/KCX/frcmod1.KCX\n"
     ]
    }
   ],
   "source": [
    "# strip out ATTN lines\n",
    "\n",
    "# ! grep -v \"ATTN\" {\"frcmod.\"+resname} > {\"frcmod1.\"+resname} # Strip out ATTN lines\n",
    "\n",
    "grep_command = [\n",
    "    \"grep\", \"-v\", \"ATTN\",\n",
    "    os.path.join(KCX_dir, \"frcmod.\"+resname),\n",
    "    \">\", os.path.join(KCX_dir, \"frcmod1.\"+resname)\n",
    "]\n",
    "\n",
    "# Run grep command\n",
    "print(\" \".join(grep_command))\n",
    "! {\" \".join(grep_command)}\n",
    "# subprocess.run(grep_command, check=True)"
   ]
  },
  {
   "cell_type": "code",
   "execution_count": 54,
   "metadata": {},
   "outputs": [
    {
     "name": "stdout",
     "output_type": "stream",
     "text": [
      "parmchk2 -i KCX.prepin -f prepi -o frcmod2.KCX\n"
     ]
    },
    {
     "data": {
      "text/plain": [
       "CompletedProcess(args=['parmchk2', '-i', 'KCX.prepin', '-f', 'prepi', '-o', 'frcmod2.KCX'], returncode=0)"
      ]
     },
     "execution_count": 54,
     "metadata": {},
     "output_type": "execute_result"
    }
   ],
   "source": [
    "# GAFF parameters for ligands\n",
    "# adapt parmchk2 -i cro.prepin -f prepi -o frcmod.cro \n",
    "\n",
    "\n",
    "parmchk_command = [\n",
    "    \"parmchk2\",\n",
    "    \"-i\", resname + \".prepin\",\n",
    "    \"-f\", \"prepi\",\n",
    "    \"-o\", \"frcmod2.\" + resname,\n",
    "    # \"-a\", \"Y\",\n",
    "    # \"-p\", os.environ[\"AMBERHOME\"]+\"/dat/leap/parm/\"+ ff_dat\n",
    "]\n",
    "\n",
    "print(\" \".join(parmchk_command))\n",
    "subprocess.run(parmchk_command, check=True, cwd=KCX_dir)"
   ]
  },
  {
   "cell_type": "code",
   "execution_count": null,
   "metadata": {},
   "outputs": [],
   "source": [
    "\n",
    "leap_file = f\"\"\"source leaprc.protein.ff19SB\n",
    "set default PBRadii mbondi3\n",
    "loadAmberPrep {resname}.prepin\n",
    "loadAmberParams frcmod2.{resname}\n",
    "loadAmberParams frcmod1.{resname}\n",
    "x = loadPDB gfp.pdb\n",
    "saveAmberParm x gfp.parm7 gfp.rst7\n",
    "quit\n",
    "\"\"\""
   ]
  }
 ],
 "metadata": {
  "kernelspec": {
   "display_name": "RIN_test",
   "language": "python",
   "name": "python3"
  },
  "language_info": {
   "codemirror_mode": {
    "name": "ipython",
    "version": 3
   },
   "file_extension": ".py",
   "mimetype": "text/x-python",
   "name": "python",
   "nbconvert_exporter": "python",
   "pygments_lexer": "ipython3",
   "version": "3.8.17"
  },
  "orig_nbformat": 4
 },
 "nbformat": 4,
 "nbformat_minor": 2
}
