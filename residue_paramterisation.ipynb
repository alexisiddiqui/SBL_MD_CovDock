{
 "cells": [
  {
   "cell_type": "code",
   "execution_count": 2,
   "metadata": {},
   "outputs": [],
   "source": [
    "### Ligand file creation - how exactly do we generate the SDF files for novel lignands?\n",
    "\n",
    "import os\n",
    "import subprocess\n",
    "from SBLMDCOVDOCK.SBLSettings import GROMACS_Settings\n",
    "import requests\n",
    "settings = GROMACS_Settings()"
   ]
  },
  {
   "cell_type": "code",
   "execution_count": null,
   "metadata": {},
   "outputs": [],
   "source": []
  },
  {
   "cell_type": "code",
   "execution_count": null,
   "metadata": {},
   "outputs": [],
   "source": []
  },
  {
   "cell_type": "code",
   "execution_count": 3,
   "metadata": {},
   "outputs": [
    {
     "name": "stdout",
     "output_type": "stream",
     "text": [
      "CIF file downloaded and saved to start_structures/APO/KCX/KCX.cif\n"
     ]
    }
   ],
   "source": [
    "# use: https://ambermd.org/tutorials/basic/tutorial5/index.php\n",
    "# only partially works with GAFF - doesnt generate charges.\n",
    "\n",
    "resname = \"KCX\"\n",
    "\n",
    "# download from PDB\n",
    "# \n",
    "link = f\"https://files.rcsb.org/ligands/download/{resname}.cif\"\n",
    "\n",
    "# download the file to KCX_dir\n",
    "\n",
    "KCX_dir = os.path.join(settings.structures_input, resname)\n",
    "\n",
    "# Check if the directory exists, if not, create it\n",
    "if not os.path.exists(KCX_dir):\n",
    "    os.makedirs(KCX_dir)\n",
    "\n",
    "# Download the CIF file and save it to the target directory\n",
    "cif_file_path = os.path.join(KCX_dir, f\"{resname}.cif\")\n",
    "response = requests.get(link)\n",
    "\n",
    "if response.status_code == 200:\n",
    "    with open(cif_file_path, \"wb\") as f:\n",
    "        f.write(response.content)\n",
    "    print(f\"CIF file downloaded and saved to {cif_file_path}\")\n",
    "else:\n",
    "    print(\"Failed to download the CIF file.\")"
   ]
  },
  {
   "cell_type": "code",
   "execution_count": 33,
   "metadata": {},
   "outputs": [
    {
     "name": "stdout",
     "output_type": "stream",
     "text": [
      "start_structures/APO/KCX/APO_1K55_chimeraFH.pdb\n",
      "pdb4amber -i APO_1K55_chimeraFH.pdb -o 1K55_4amber.pdb\n"
     ]
    },
    {
     "name": "stderr",
     "output_type": "stream",
     "text": [
      "\n",
      "==================================================\n",
      "Summary of pdb4amber for: APO_1K55_chimeraFH.pdb\n",
      "===================================================\n",
      "\n",
      "----------Chains\n",
      "The following (original) chains have been found:\n",
      "A\n",
      "\n",
      "---------- Alternate Locations (Original Residues!))\n",
      "\n",
      "The following residues had alternate locations:\n",
      "LYS_91\n",
      "MET_99\n",
      "SER_147\n",
      "VAL_211\n",
      "-----------Non-standard-resnames\n",
      "KCX\n",
      "\n",
      "---------- Gaps (Renumbered Residues!)\n",
      "gap of 3.039053 A between PHE 49 and ILE 51\n",
      "\n",
      "---------- Missing heavy atom(s)\n",
      "\n",
      "None\n",
      "The alternate coordinates have been discarded.\n",
      "Only the first occurrence for each atom was kept.\n"
     ]
    },
    {
     "data": {
      "text/plain": [
       "CompletedProcess(args=['pdb4amber', '-i', 'APO_1K55_chimeraFH.pdb', '-o', '1K55_4amber.pdb'], returncode=0)"
      ]
     },
     "execution_count": 33,
     "metadata": {},
     "output_type": "execute_result"
    }
   ],
   "source": [
    "# copy APO_1K55_chimeraFH.pdb into KCX\n",
    "import shutil\n",
    "pdb_orig = \"APO_1K55_chimeraFH.pdb\"\n",
    "\n",
    "source_path = os.path.join(settings.structures_input, pdb_orig)\n",
    "dest_path = os.path.join(KCX_dir, pdb_orig)\n",
    "dest = shutil.copy(source_path, dest_path)\n",
    "print(dest)\n",
    "\n",
    "pdb_final = \"1K55_4amber.pdb\"\n",
    "\n",
    "pdb4amber_command = [\n",
    "    \"pdb4amber\",\n",
    "    \"-i\", pdb_orig,\n",
    "    \"-o\", pdb_final,\n",
    "\n",
    "]\n",
    "\n",
    "# Run pdb4amber\n",
    "print(\" \".join(pdb4amber_command))\n",
    "subprocess.run(pdb4amber_command, cwd=KCX_dir)"
   ]
  },
  {
   "cell_type": "code",
   "execution_count": 50,
   "metadata": {},
   "outputs": [
    {
     "name": "stdout",
     "output_type": "stream",
     "text": [
      "\n",
      "Running: /Users/alexi/miniconda/envs/RIN_test/bin/am1bcc -i ANTECHAMBER_AM1BCC_PRE.AC -o ANTECHAMBER_AM1BCC.AC -f ac -p /Users/alexi/miniconda/envs/RIN_test/dat/antechamber/BCCPARM.DAT -s 2 -j 1\n",
      "\n",
      "Running: /Users/alexi/miniconda/envs/RIN_test/bin/atomtype -f ac -p bcc -o ANTECHAMBER_AM1BCC.AC -i ANTECHAMBER_AM1BCC_PRE.AC\n",
      "\n",
      "start_structures/APO/KCX\n",
      "antechamber -i start_structures/APO/KCX/KCX.cif -fi ccif -bk KCX -o start_structures/APO/KCX/KCX.ac -fo ac -c bcc -at amber -s 2 -nc 0\n",
      "\n",
      "Welcome to antechamber 22.0: molecular input file processor.\n",
      "\n",
      "Info: acdoctor mode is on: check and diagnose problems in the input file.\n",
      "Info: The atom type is set to amber; the options available to the -at flag are\n",
      "      gaff, gaff2, amber, bcc, and sybyl.\n",
      "\n",
      "Info: Determining atomic numbers from atomic symbols which are case sensitive.\n",
      "-- Check Unusual Elements --\n",
      "   Status: pass\n",
      "-- Check Open Valences --\n",
      "   Status: pass\n",
      "-- Check Geometry --\n",
      "      for those bonded   \n",
      "      for those not bonded   \n",
      "   Status: pass\n",
      "-- Check Weird Bonds --\n",
      "   Status: pass\n",
      "-- Check Number of Units --\n",
      "   Status: pass\n",
      "acdoctor mode has completed checking the input file.\n",
      "\n",
      "Running: /Users/alexi/miniconda/envs/RIN_test/bin/bondtype -j full -i ANTECHAMBER_BOND_TYPE.AC0 -o ANTECHAMBER_BOND_TYPE.AC -f ac\n",
      "\n",
      "Running: /Users/alexi/miniconda/envs/RIN_test/bin/atomtype -i ANTECHAMBER_AC.AC0 -o ANTECHAMBER_AC.AC -p amber\n",
      "Info: Total number of electrons: 102; net charge: 0\n",
      "\n",
      "Running: /Users/alexi/miniconda/envs/RIN_test/bin/sqm -O -i sqm.in -o sqm.out\n"
     ]
    },
    {
     "name": "stderr",
     "output_type": "stream",
     "text": [
      "/Users/alexi/miniconda/envs/RIN_test/bin/wrapped_progs/antechamber: Non Fatal Error!\n",
      "Residue (KCX) has a type of LINKING.\n",
      "    This linking monomer will likely become part of a polymer\n",
      "    and thus probably requires special handling beyond antechamber.\n",
      "Ignore this error only if you know what you are doing.\n",
      "\n"
     ]
    },
    {
     "name": "stdout",
     "output_type": "stream",
     "text": [
      "\n",
      "Running: /Users/alexi/miniconda/envs/RIN_test/bin/am1bcc -i ANTECHAMBER_AM1BCC_PRE.AC -o ANTECHAMBER_AM1BCC.AC -f ac -p /Users/alexi/miniconda/envs/RIN_test/dat/antechamber/BCCPARM.DAT -s 2 -j 1\n",
      "\n",
      "Running: /Users/alexi/miniconda/envs/RIN_test/bin/atomtype -f ac -p bcc -o ANTECHAMBER_AM1BCC.AC -i ANTECHAMBER_AM1BCC_PRE.AC\n",
      "\n"
     ]
    },
    {
     "data": {
      "text/plain": [
       "CompletedProcess(args=['antechamber', '-i', 'start_structures/APO/KCX/KCX.cif', '-fi', 'ccif', '-bk', 'KCX', '-o', 'start_structures/APO/KCX/KCX.ac', '-fo', 'ac', '-c', 'bcc', '-at', 'amber', '-s', '2', '-nc', '0'], returncode=0)"
      ]
     },
     "execution_count": 50,
     "metadata": {},
     "output_type": "execute_result"
    }
   ],
   "source": [
    "\n",
    "\n",
    "print(KCX_dir)\n",
    "\n",
    "KCX_cif_path = os.path.join(KCX_dir, resname+'.cif')\n",
    "\n",
    "antechamber_command = [\n",
    "    'antechamber',\n",
    "    '-i', KCX_cif_path,\n",
    "    '-fi', 'ccif',\n",
    "    \"-bk\", resname, # component block for ccif\n",
    "    '-o', KCX_cif_path.replace('.cif', '.ac'),\n",
    "    '-fo', 'ac',\n",
    "    '-c', 'bcc', # charge method\n",
    "    '-at', 'amber', # ff atom types\n",
    "    '-s', '2', # verbose\n",
    "    '-nc', '0'\n",
    "\n",
    "]\n",
    "\n",
    "print(\" \".join(antechamber_command))\n",
    "\n",
    "subprocess.run(antechamber_command, check=True)"
   ]
  },
  {
   "cell_type": "code",
   "execution_count": 51,
   "metadata": {},
   "outputs": [],
   "source": [
    "# change NT to N in KCX.ac file\n",
    "KCX_ac_path = KCX_cif_path.replace('.cif', '.ac')\n",
    "\n",
    "# Read the contents of the KCX.ac file\n",
    "with open(KCX_ac_path, 'r') as f:\n",
    "    ac_contents = f.read()\n",
    "\n",
    "# Perform the replacement (NT to N)\n",
    "ac_contents = ac_contents.replace(\"NT\", \"N\")\n",
    "\n",
    "# Write the updated contents back to the KCX.ac file\n",
    "with open(KCX_ac_path, 'w+') as f:\n",
    "    # print(ac_contents)\n",
    "    f.write(ac_contents)\n",
    "\n"
   ]
  },
  {
   "cell_type": "code",
   "execution_count": 65,
   "metadata": {},
   "outputs": [
    {
     "name": "stdout",
     "output_type": "stream",
     "text": [
      "start_structures/APO/KCX/KCX.mc\n"
     ]
    }
   ],
   "source": [
    "KCX_mc = \"\"\"\n",
    "HEAD_NAME N\n",
    "TAIL_NAME C\n",
    "MAIN_CHAIN CA\n",
    "MAIN_CHAIN CB\n",
    "MAIN_CHAIN CG\n",
    "MAIN_CHAIN CD\n",
    "MAIN_CHAIN CE\n",
    "MAIN_CHAIN NZ\n",
    "MAIN_CHAIN CX\n",
    "MAIN_CHAIN OQ1\n",
    "MAIN_CHAIN OQ2\n",
    "OMIT_NAME HN2\n",
    "OMIT_NAME OXT\n",
    "OMIT_NAME HXT\n",
    "OMIT_NAME HQ2\n",
    "PRE_HEAD_TYPE C\n",
    "POST_TAIL_TYPE N\n",
    "CHARGE -1.0\n",
    "\"\"\"\n",
    "# Neutral only\n",
    "# KCX_mc = \"\"\"\n",
    "# HEAD_NAME N\n",
    "# TAIL_NAME C\n",
    "# MAIN_CHAIN CA\n",
    "# MAIN_CHAIN CB\n",
    "# MAIN_CHAIN CG\n",
    "# MAIN_CHAIN CD\n",
    "# MAIN_CHAIN CE\n",
    "# MAIN_CHAIN NZ\n",
    "# MAIN_CHAIN CX\n",
    "# MAIN_CHAIN OQ1\n",
    "# MAIN_CHAIN OQ2\n",
    "# OMIT_NAME HN2\n",
    "# OMIT_NAME OXT\n",
    "# OMIT_NAME HXT\n",
    "# PRE_HEAD_TYPE C\n",
    "# POST_TAIL_TYPE N\n",
    "# CHARGE 0\n",
    "# \"\"\"\n",
    "\n",
    "path = os.path.join(KCX_dir, resname+'.mc')\n",
    "print(path)\n",
    "with open(path, 'w') as f:\n",
    "    f.write(KCX_mc)\n",
    "\n"
   ]
  },
  {
   "cell_type": "code",
   "execution_count": 66,
   "metadata": {},
   "outputs": [
    {
     "name": "stdout",
     "output_type": "stream",
     "text": [
      "prepgen -i KCX.ac -o KCX.prepin -m KCX.mc -rn KCX\n",
      "\n",
      "PRE_HEAD_TYPE is     C\n",
      "POST_TAIL_TYPE is     N\n",
      "Net charge of truncated molecule is     0.00\n",
      "HEAD_ATOM      1    N\n",
      "TAIL_ATOM      8    C\n",
      "MAIN_CHAIN     1    1    N\n",
      "MAIN_CHAIN     2    2   CA\n",
      "MAIN_CHAIN     3    3   CB\n",
      "MAIN_CHAIN     4    4   CG\n",
      "MAIN_CHAIN     5    5   CD\n",
      "MAIN_CHAIN     6    6   CE\n",
      "MAIN_CHAIN     7    7   NZ\n",
      "MAIN_CHAIN     8   10   CX\n",
      "MAIN_CHAIN     9   12  OQ1\n",
      "MAIN_CHAIN    10   13  OQ2\n",
      "MAIN_CHAIN    11    8    C\n",
      "OMIT_ATOM      1   15  HN2\n",
      "OMIT_ATOM      2   11  OXT\n",
      "OMIT_ATOM      3   26  HXT\n",
      "Number of mainchain atoms (including head and tail atom):    11\n",
      "Number of omited atoms:     3"
     ]
    },
    {
     "data": {
      "text/plain": [
       "CompletedProcess(args=['prepgen', '-i', 'KCX.ac', '-o', 'KCX.prepin', '-m', 'KCX.mc', '-rn', 'KCX'], returncode=0)"
      ]
     },
     "execution_count": 66,
     "metadata": {},
     "output_type": "execute_result"
    }
   ],
   "source": [
    "\n",
    "prepgen_command = [\n",
    "    \"prepgen\",\n",
    "    \"-i\", resname+'.ac',\n",
    "    \"-o\", resname+'.prepin',\n",
    "    \"-m\", resname+'.mc',\n",
    "    \"-rn\", resname,\n",
    "]\n",
    "    \n",
    "print(\" \".join(prepgen_command))\n",
    "subprocess.run(prepgen_command, check=True, cwd=KCX_dir)"
   ]
  },
  {
   "cell_type": "code",
   "execution_count": null,
   "metadata": {},
   "outputs": [],
   "source": []
  },
  {
   "cell_type": "code",
   "execution_count": 67,
   "metadata": {},
   "outputs": [],
   "source": [
    "# find\n",
    "!open $AMBERHOME"
   ]
  },
  {
   "cell_type": "code",
   "execution_count": 68,
   "metadata": {},
   "outputs": [
    {
     "name": "stdout",
     "output_type": "stream",
     "text": [
      "parmchk2 -i KCX.prepin -f prepi -o frcmod.KCX -a Y -p /Users/alexi/miniconda/envs/RIN_test/dat/leap/parm/parm19.dat\n"
     ]
    },
    {
     "data": {
      "text/plain": [
       "CompletedProcess(args=['parmchk2', '-i', 'KCX.prepin', '-f', 'prepi', '-o', 'frcmod.KCX', '-a', 'Y', '-p', '/Users/alexi/miniconda/envs/RIN_test/dat/leap/parm/parm19.dat'], returncode=0)"
      ]
     },
     "execution_count": 68,
     "metadata": {},
     "output_type": "execute_result"
    }
   ],
   "source": [
    "# adapt parmchk2 -i cro.prepin -f prepi -o frcmod.cro -a Y -p $AMBERHOME/dat/leap/parm/parm10.dat\n",
    "\n",
    "ff_dat = \"parm19.dat\"\n",
    "\n",
    "parmchk_command = [\n",
    "    \"parmchk2\",\n",
    "    \"-i\", resname + \".prepin\",\n",
    "    \"-f\", \"prepi\",\n",
    "    \"-o\", \"frcmod.\" + resname,\n",
    "    \"-a\", \"Y\",\n",
    "    \"-p\", os.environ[\"AMBERHOME\"]+\"/dat/leap/parm/\"+ ff_dat\n",
    "]\n",
    "\n",
    "print(\" \".join(parmchk_command))\n",
    "subprocess.run(parmchk_command, check=True, cwd=KCX_dir)"
   ]
  },
  {
   "cell_type": "code",
   "execution_count": 69,
   "metadata": {},
   "outputs": [
    {
     "name": "stdout",
     "output_type": "stream",
     "text": [
      "grep -v ATTN start_structures/APO/KCX/frcmod.KCX > start_structures/APO/KCX/frcmod1.KCX\n"
     ]
    }
   ],
   "source": [
    "# strip out ATTN lines\n",
    "\n",
    "# ! grep -v \"ATTN\" {\"frcmod.\"+resname} > {\"frcmod1.\"+resname} # Strip out ATTN lines\n",
    "\n",
    "grep_command = [\n",
    "    \"grep\", \"-v\", \"ATTN\",\n",
    "    os.path.join(KCX_dir, \"frcmod.\"+resname),\n",
    "    \">\", os.path.join(KCX_dir, \"frcmod1.\"+resname)\n",
    "]\n",
    "\n",
    "# Run grep command\n",
    "print(\" \".join(grep_command))\n",
    "! {\" \".join(grep_command)}\n",
    "# subprocess.run(grep_command, check=True)"
   ]
  },
  {
   "cell_type": "code",
   "execution_count": 70,
   "metadata": {},
   "outputs": [
    {
     "name": "stdout",
     "output_type": "stream",
     "text": [
      "parmchk2 -i KCX.prepin -f prepi -o frcmod2.KCX\n"
     ]
    },
    {
     "data": {
      "text/plain": [
       "CompletedProcess(args=['parmchk2', '-i', 'KCX.prepin', '-f', 'prepi', '-o', 'frcmod2.KCX'], returncode=0)"
      ]
     },
     "execution_count": 70,
     "metadata": {},
     "output_type": "execute_result"
    }
   ],
   "source": [
    "# GAFF parameters for ligands\n",
    "# adapt parmchk2 -i cro.prepin -f prepi -o frcmod.cro \n",
    "\n",
    "\n",
    "parmchk_command = [\n",
    "    \"parmchk2\",\n",
    "    \"-i\", resname + \".prepin\",\n",
    "    \"-f\", \"prepi\",\n",
    "    \"-o\", \"frcmod2.\" + resname,\n",
    "    # \"-a\", \"Y\",\n",
    "    # \"-p\", os.environ[\"AMBERHOME\"]+\"/dat/leap/parm/\"+ ff_dat\n",
    "]\n",
    "\n",
    "print(\" \".join(parmchk_command))\n",
    "subprocess.run(parmchk_command, check=True, cwd=KCX_dir)"
   ]
  },
  {
   "cell_type": "markdown",
   "metadata": {},
   "source": []
  },
  {
   "cell_type": "code",
   "execution_count": 71,
   "metadata": {},
   "outputs": [],
   "source": [
    "pdb = pdb_orig\n",
    "leap_file = f\"\"\"source leaprc.protein.ff19SB\n",
    "set default PBRadii mbondi3\n",
    "loadAmberPrep {resname}.prepin\n",
    "loadAmberParams frcmod2.{resname}\n",
    "loadAmberParams frcmod1.{resname}\n",
    "x = loadPDB {pdb}\n",
    "saveAmberParm x {pdb.replace(\".pdb\",\"_ante.parm7\")} {pdb.replace(\".pdb\",\"_ante.rst7\")}\n",
    "quit\n",
    "\"\"\"\n",
    "\n",
    "leap_path = os.path.join(KCX_dir, 'tleap.in')\n",
    "\n",
    "with open(leap_path, 'w') as f:\n",
    "    f.write(leap_file)"
   ]
  },
  {
   "cell_type": "code",
   "execution_count": 72,
   "metadata": {},
   "outputs": [
    {
     "name": "stdout",
     "output_type": "stream",
     "text": [
      "-I: Adding /Users/alexi/miniconda/envs/RIN_test/dat/leap/prep to search path.\n",
      "-I: Adding /Users/alexi/miniconda/envs/RIN_test/dat/leap/lib to search path.\n",
      "-I: Adding /Users/alexi/miniconda/envs/RIN_test/dat/leap/parm to search path.\n",
      "-I: Adding /Users/alexi/miniconda/envs/RIN_test/dat/leap/cmd to search path.\n",
      "-f: Source tleap.in.\n",
      "\n",
      "Welcome to LEaP!\n",
      "(no leaprc in search path)\n",
      "Sourcing: ./tleap.in\n",
      "----- Source: /Users/alexi/miniconda/envs/RIN_test/dat/leap/cmd/leaprc.protein.ff19SB\n",
      "----- Source of /Users/alexi/miniconda/envs/RIN_test/dat/leap/cmd/leaprc.protein.ff19SB done\n",
      "Log file: ./leap.log\n",
      "Loading parameters: /Users/alexi/miniconda/envs/RIN_test/dat/leap/parm/parm19.dat\n",
      "Reading title:\n",
      "PARM99 + frcmod.ff99SB + frcmod.parmbsc0 + OL3 for RNA + ff19SB\n",
      "Loading parameters: /Users/alexi/miniconda/envs/RIN_test/dat/leap/parm/frcmod.ff19SB\n",
      "Reading force field modification type file (frcmod)\n",
      "Reading title:\n",
      "ff19SB AA-specific backbone CMAPs for protein 07/25/2019\n",
      "Loading library: /Users/alexi/miniconda/envs/RIN_test/dat/leap/lib/amino19.lib\n",
      "Loading library: /Users/alexi/miniconda/envs/RIN_test/dat/leap/lib/aminoct12.lib\n",
      "Loading library: /Users/alexi/miniconda/envs/RIN_test/dat/leap/lib/aminont12.lib\n",
      "Using ArgH and AspGluO modified Bondi2 radii\n",
      "Loading Prep file: ./KCX.prepin\n",
      "Loading parameters: ./frcmod2.KCX\n",
      "Reading force field modification type file (frcmod)\n",
      "Reading title:\n",
      "Remark line goes here\n",
      "Loading parameters: ./frcmod1.KCX\n",
      "Reading force field modification type file (frcmod)\n",
      "Reading title:\n",
      "Remark line goes here\n",
      "Loading PDB file: ./APO_1K55_chimeraFH.pdb\n",
      "-- residue 91: duplicate [ CB] atoms (total 2)\n",
      "-- residue 91: duplicate [ CD] atoms (total 2)\n",
      "-- residue 91: duplicate [ CE] atoms (total 2)\n",
      "-- residue 91: duplicate [ CG] atoms (total 2)\n",
      "-- residue 91: duplicate [ HB2] atoms (total 2)\n",
      "-- residue 91: duplicate [ HB3] atoms (total 2)\n",
      "-- residue 91: duplicate [ HD2] atoms (total 2)\n",
      "-- residue 91: duplicate [ HD3] atoms (total 2)\n",
      "-- residue 91: duplicate [ HE2] atoms (total 2)\n",
      "-- residue 91: duplicate [ HE3] atoms (total 2)\n",
      "-- residue 91: duplicate [ HG2] atoms (total 2)\n",
      "-- residue 91: duplicate [ HG3] atoms (total 2)\n",
      "-- residue 91: duplicate [ HZ1] atoms (total 2)\n",
      "-- residue 91: duplicate [ HZ2] atoms (total 2)\n",
      "-- residue 91: duplicate [ HZ3] atoms (total 2)\n",
      "-- residue 91: duplicate [ NZ] atoms (total 2)\n",
      "-- residue 99: duplicate [ CB] atoms (total 2)\n",
      "-- residue 99: duplicate [ CE] atoms (total 2)\n",
      "-- residue 99: duplicate [ CG] atoms (total 2)\n",
      "-- residue 99: duplicate [ HB2] atoms (total 2)\n",
      "-- residue 99: duplicate [ HB3] atoms (total 2)\n",
      "-- residue 99: duplicate [ HE1] atoms (total 2)\n",
      "-- residue 99: duplicate [ HE2] atoms (total 2)\n",
      "-- residue 99: duplicate [ HE3] atoms (total 2)\n",
      "-- residue 99: duplicate [ HG2] atoms (total 2)\n",
      "-- residue 99: duplicate [ HG3] atoms (total 2)\n",
      "-- residue 99: duplicate [ SD] atoms (total 2)\n",
      "-- residue 147: duplicate [ CB] atoms (total 2)\n",
      "-- residue 147: duplicate [ HB2] atoms (total 2)\n",
      "-- residue 147: duplicate [ HB3] atoms (total 2)\n",
      "-- residue 147: duplicate [ HG] atoms (total 2)\n",
      "-- residue 147: duplicate [ OG] atoms (total 2)\n",
      "-- residue 211: duplicate [ CB] atoms (total 2)\n",
      "-- residue 211: duplicate [ CG1] atoms (total 2)\n",
      "-- residue 211: duplicate [ CG2] atoms (total 2)\n",
      "-- residue 211: duplicate [ HB] atoms (total 2)\n",
      "-- residue 211: duplicate [HG11] atoms (total 2)\n",
      "-- residue 211: duplicate [HG12] atoms (total 2)\n",
      "-- residue 211: duplicate [HG13] atoms (total 2)\n",
      "-- residue 211: duplicate [HG21] atoms (total 2)\n",
      "-- residue 211: duplicate [HG22] atoms (total 2)\n",
      "-- residue 211: duplicate [HG23] atoms (total 2)\n",
      "\n",
      "/Users/alexi/miniconda/envs/RIN_test/bin/teLeap: Warning!\n",
      "Atom names in each residue should be unique.\n",
      "     (Same-name atoms are handled by using the first\n",
      "      occurrence and by ignoring the rest.\n",
      "      Many instances of duplicate atom names usually come\n",
      "      from alternate conformations in the PDB file.)\n",
      "\n",
      "Created a new atom named: HD1 within residue: .R<HIE 203>\n",
      "  Added missing heavy atom: .R<CGLY 265>.A<OXT 8>\n",
      "  total atoms in file: 3908\n",
      "  Leap added 8 missing atoms according to residue templates:\n",
      "       1 Heavy\n",
      "       7 H / lone pairs\n",
      "  The file contained 1 atoms not in residue templates\n",
      "Checking Unit.\n",
      "\n",
      "/Users/alexi/miniconda/envs/RIN_test/bin/teLeap: Warning!\n",
      "There is a bond of 6.565 angstroms between OQ2 and C atoms:\n",
      "-------  .R<KCX 70>.A<OQ2 21> and .R<KCX 70>.A<C 23>\n",
      "\n",
      "/Users/alexi/miniconda/envs/RIN_test/bin/teLeap: Warning!\n",
      "The unperturbed charge of the unit (-0.999998) is not zero.\n",
      "FATAL:  Atom .R<HIE 203>.A<HD1 18> does not have a type.\n",
      "\n",
      "/Users/alexi/miniconda/envs/RIN_test/bin/teLeap: Fatal Error!\n",
      "Failed to generate parameters\n",
      "\n",
      "Exiting LEaP: Errors = 1; Warnings = 3; Notes = 0.\n"
     ]
    },
    {
     "data": {
      "text/plain": [
       "CompletedProcess(args=['tleap', '-f', 'tleap.in'], returncode=31)"
      ]
     },
     "execution_count": 72,
     "metadata": {},
     "output_type": "execute_result"
    }
   ],
   "source": [
    "tleap_command = [\n",
    "    \"tleap\",\n",
    "    \"-f\", \"tleap.in\" #os.path.join(KCX_dir, \"tleap.in\")\n",
    "]\n",
    "# subprocess.run(\"ls\", cwd=KCX_dir)\n",
    "\n",
    "# print(\" \".join(tleap_command))\n",
    "subprocess.run(tleap_command, cwd=KCX_dir)"
   ]
  },
  {
   "cell_type": "code",
   "execution_count": null,
   "metadata": {},
   "outputs": [],
   "source": []
  }
 ],
 "metadata": {
  "kernelspec": {
   "display_name": "RIN_test",
   "language": "python",
   "name": "python3"
  },
  "language_info": {
   "codemirror_mode": {
    "name": "ipython",
    "version": 3
   },
   "file_extension": ".py",
   "mimetype": "text/x-python",
   "name": "python",
   "nbconvert_exporter": "python",
   "pygments_lexer": "ipython3",
   "version": "3.8.17"
  },
  "orig_nbformat": 4
 },
 "nbformat": 4,
 "nbformat_minor": 2
}
