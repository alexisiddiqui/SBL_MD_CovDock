{
 "cells": [
  {
   "cell_type": "code",
   "execution_count": 2,
   "metadata": {},
   "outputs": [],
   "source": [
    "### Ligand file creation - how exactly do we generate the SDF files for novel lignands?\n",
    "\n",
    "import os\n",
    "import subprocess\n",
    "from SBLMDCOVDOCK.SBLSettings import GROMACS_Settings\n",
    "import requests\n",
    "settings = GROMACS_Settings()"
   ]
  },
  {
   "cell_type": "code",
   "execution_count": null,
   "metadata": {},
   "outputs": [],
   "source": []
  },
  {
   "cell_type": "code",
   "execution_count": null,
   "metadata": {},
   "outputs": [],
   "source": []
  },
  {
   "cell_type": "code",
   "execution_count": 35,
   "metadata": {},
   "outputs": [
    {
     "name": "stdout",
     "output_type": "stream",
     "text": [
      "CIF file downloaded and saved to start_structures/APO/KCX/KCX.cif\n"
     ]
    }
   ],
   "source": [
    "# use: https://ambermd.org/tutorials/basic/tutorial5/index.php\n",
    "# only partially works with GAFF - doesnt generate charges.\n",
    "\n",
    "resname = \"KCX\"\n",
    "\n",
    "# download from PDB\n",
    "# \n",
    "link = f\"https://files.rcsb.org/ligands/download/{resname}.cif\"\n",
    "\n",
    "# download the file to KCX_dir\n",
    "\n",
    "KCX_dir = os.path.join(settings.structures_input, resname)\n",
    "\n",
    "# Check if the directory exists, if not, create it\n",
    "if not os.path.exists(KCX_dir):\n",
    "    os.makedirs(KCX_dir)\n",
    "\n",
    "# Download the CIF file and save it to the target directory\n",
    "cif_file_path = os.path.join(KCX_dir, f\"{resname}.cif\")\n",
    "response = requests.get(link)\n",
    "\n",
    "if response.status_code == 200:\n",
    "    with open(cif_file_path, \"wb\") as f:\n",
    "        f.write(response.content)\n",
    "    print(f\"CIF file downloaded and saved to {cif_file_path}\")\n",
    "else:\n",
    "    print(\"Failed to download the CIF file.\")"
   ]
  },
  {
   "cell_type": "code",
   "execution_count": 34,
   "metadata": {},
   "outputs": [
    {
     "name": "stdout",
     "output_type": "stream",
     "text": [
      "start_structures/APO/KCX/APO_1K55_chimeraFH_CYX.pdb\n",
      "pdb4amber -i APO_1K55_chimeraFH_CYX.pdb -o APO_1K55_4amber.pdb\n"
     ]
    },
    {
     "name": "stderr",
     "output_type": "stream",
     "text": [
      "\n",
      "==================================================\n",
      "Summary of pdb4amber for: APO_1K55_chimeraFH_CYX.pdb\n",
      "===================================================\n",
      "/Users/alexi/miniconda/envs/RIN_test/lib/python3.8/site-packages/parmed/formats/pdb.py:837: PDBWarning: Could not find atom belonging to anisou tensor with key AtomLookupKey(name='N', number='  180', residue_name='CYS', residue_number='44', chain='A', insertion_code='', segment_id='', alternate_location=''). Line: ANISOU  180  N   CYS A  44     2710   2947   2449    -34   -193     15       N\n",
      "\n",
      "  warnings.warn(\n",
      "/Users/alexi/miniconda/envs/RIN_test/lib/python3.8/site-packages/parmed/formats/pdb.py:837: PDBWarning: Could not find atom belonging to anisou tensor with key AtomLookupKey(name='CA', number='  181', residue_name='CYS', residue_number='44', chain='A', insertion_code='', segment_id='', alternate_location=''). Line: ANISOU  181  CA  CYS A  44     2847   3141   2706    -80   -207    -73       C\n",
      "\n",
      "  warnings.warn(\n",
      "/Users/alexi/miniconda/envs/RIN_test/lib/python3.8/site-packages/parmed/formats/pdb.py:837: PDBWarning: Could not find atom belonging to anisou tensor with key AtomLookupKey(name='C', number='  182', residue_name='CYS', residue_number='44', chain='A', insertion_code='', segment_id='', alternate_location=''). Line: ANISOU  182  C   CYS A  44     2865   3199   2652    -80   -235   -108       C\n",
      "\n",
      "  warnings.warn(\n",
      "/Users/alexi/miniconda/envs/RIN_test/lib/python3.8/site-packages/parmed/formats/pdb.py:837: PDBWarning: Could not find atom belonging to anisou tensor with key AtomLookupKey(name='O', number='  183', residue_name='CYS', residue_number='44', chain='A', insertion_code='', segment_id='', alternate_location=''). Line: ANISOU  183  O   CYS A  44     2836   3463   2653    -14   -368   -240       O\n",
      "\n",
      "  warnings.warn(\n",
      "/Users/alexi/miniconda/envs/RIN_test/lib/python3.8/site-packages/parmed/formats/pdb.py:837: PDBWarning: Could not find atom belonging to anisou tensor with key AtomLookupKey(name='CB', number='  184', residue_name='CYS', residue_number='44', chain='A', insertion_code='', segment_id='', alternate_location=''). Line: ANISOU  184  CB  CYS A  44     2967   3172   2994   -141   -143    -77       C\n",
      "\n",
      "  warnings.warn(\n",
      "/Users/alexi/miniconda/envs/RIN_test/lib/python3.8/site-packages/parmed/formats/pdb.py:837: PDBWarning: Could not find atom belonging to anisou tensor with key AtomLookupKey(name='SG', number='  185', residue_name='CYS', residue_number='44', chain='A', insertion_code='', segment_id='', alternate_location=''). Line: ANISOU  185  SG  CYS A  44     3248   4282   3146   -382     19    -92       S\n",
      "\n",
      "  warnings.warn(\n",
      "/Users/alexi/miniconda/envs/RIN_test/lib/python3.8/site-packages/parmed/formats/pdb.py:837: PDBWarning: Could not find atom belonging to anisou tensor with key AtomLookupKey(name='N', number='  228', residue_name='CYS', residue_number='51', chain='A', insertion_code='', segment_id='', alternate_location=''). Line: ANISOU  228  N   CYS A  51     3971   4117   4038    -85   -120    -16       N\n",
      "\n",
      "  warnings.warn(\n",
      "/Users/alexi/miniconda/envs/RIN_test/lib/python3.8/site-packages/parmed/formats/pdb.py:837: PDBWarning: Could not find atom belonging to anisou tensor with key AtomLookupKey(name='CA', number='  229', residue_name='CYS', residue_number='51', chain='A', insertion_code='', segment_id='', alternate_location=''). Line: ANISOU  229  CA  CYS A  51     3763   4013   3897    -67   -127     37       C\n",
      "\n",
      "  warnings.warn(\n",
      "/Users/alexi/miniconda/envs/RIN_test/lib/python3.8/site-packages/parmed/formats/pdb.py:837: PDBWarning: Could not find atom belonging to anisou tensor with key AtomLookupKey(name='C', number='  230', residue_name='CYS', residue_number='51', chain='A', insertion_code='', segment_id='', alternate_location=''). Line: ANISOU  230  C   CYS A  51     3572   3850   3668   -122   -207     25       C\n",
      "\n",
      "  warnings.warn(\n",
      "/Users/alexi/miniconda/envs/RIN_test/lib/python3.8/site-packages/parmed/formats/pdb.py:837: PDBWarning: Could not find atom belonging to anisou tensor with key AtomLookupKey(name='O', number='  231', residue_name='CYS', residue_number='51', chain='A', insertion_code='', segment_id='', alternate_location=''). Line: ANISOU  231  O   CYS A  51     3561   4081   3732   -177   -419     16       O\n",
      "\n",
      "  warnings.warn(\n",
      "/Users/alexi/miniconda/envs/RIN_test/lib/python3.8/site-packages/parmed/formats/pdb.py:837: PDBWarning: Could not find atom belonging to anisou tensor with key AtomLookupKey(name='CB', number='  232', residue_name='CYS', residue_number='51', chain='A', insertion_code='', segment_id='', alternate_location=''). Line: ANISOU  232  CB  CYS A  51     3760   4068   3932   -104   -107     33       C\n",
      "\n",
      "  warnings.warn(\n",
      "/Users/alexi/miniconda/envs/RIN_test/lib/python3.8/site-packages/parmed/formats/pdb.py:837: PDBWarning: Could not find atom belonging to anisou tensor with key AtomLookupKey(name='SG', number='  233', residue_name='CYS', residue_number='51', chain='A', insertion_code='', segment_id='', alternate_location=''). Line: ANISOU  233  SG  CYS A  51     3568   4556   4428   -206   -268    320       S\n",
      "\n",
      "  warnings.warn(\n",
      "\n",
      "----------Chains\n",
      "The following (original) chains have been found:\n",
      "A\n",
      "\n",
      "---------- Alternate Locations (Original Residues!))\n",
      "\n",
      "The following residues had alternate locations:\n",
      "LYS_91\n",
      "MET_99\n",
      "SER_147\n",
      "VAL_211\n",
      "-----------Non-standard-resnames\n",
      "KCX\n",
      "\n",
      "---------- Gaps (Renumbered Residues!)\n",
      "gap of 3.039053 A between PHE 49 and ILE 51\n",
      "\n",
      "---------- Missing heavy atom(s)\n",
      "\n",
      "None\n",
      "The alternate coordinates have been discarded.\n",
      "Only the first occurrence for each atom was kept.\n"
     ]
    },
    {
     "data": {
      "text/plain": [
       "CompletedProcess(args=['pdb4amber', '-i', 'APO_1K55_chimeraFH_CYX.pdb', '-o', 'APO_1K55_4amber.pdb'], returncode=0)"
      ]
     },
     "execution_count": 34,
     "metadata": {},
     "output_type": "execute_result"
    }
   ],
   "source": [
    "# copy APO_1K55_chimeraFH.pdb into KCX\n",
    "import shutil\n",
    "pdb_orig = \"APO_1K55_chimeraFH_CYX.pdb\"\n",
    "\n",
    "source_path = os.path.join(settings.structures_input, pdb_orig)\n",
    "dest_path = os.path.join(KCX_dir, pdb_orig)\n",
    "dest = shutil.copy(source_path, dest_path)\n",
    "print(dest)\n",
    "\n",
    "pdb_final = \"APO_1K55_4amber.pdb\"\n",
    "\n",
    "pdb4amber_command = [\n",
    "    \"pdb4amber\",\n",
    "    \"-i\", pdb_orig,\n",
    "    \"-o\", pdb_final,\n",
    "\n",
    "]\n",
    "\n",
    "# Run pdb4amber\n",
    "print(\" \".join(pdb4amber_command))\n",
    "subprocess.run(pdb4amber_command, cwd=KCX_dir)"
   ]
  },
  {
   "cell_type": "code",
   "execution_count": 21,
   "metadata": {},
   "outputs": [
    {
     "name": "stdout",
     "output_type": "stream",
     "text": [
      "start_structures/APO/KCX\n",
      "antechamber -i start_structures/APO/KCX/KCX.cif -fi ccif -bk KCX -o start_structures/APO/KCX/KCX.ac -fo ac -c bcc -at amber -s 2 -nc 0\n",
      "\n",
      "Welcome to antechamber 22.0: molecular input file processor.\n",
      "\n",
      "Info: acdoctor mode is on: check and diagnose problems in the input file.\n",
      "Info: The atom type is set to amber; the options available to the -at flag are\n",
      "      gaff, gaff2, amber, bcc, and sybyl.\n",
      "\n",
      "Info: Determining atomic numbers from atomic symbols which are case sensitive.\n",
      "-- Check Unusual Elements --\n",
      "   Status: pass\n",
      "-- Check Open Valences --\n",
      "   Status: pass\n",
      "-- Check Geometry --\n",
      "      for those bonded   \n",
      "      for those not bonded   \n",
      "   Status: pass\n",
      "-- Check Weird Bonds --\n",
      "   Status: pass\n",
      "-- Check Number of Units --\n",
      "   Status: pass\n",
      "acdoctor mode has completed checking the input file.\n",
      "\n",
      "Running: /Users/alexi/miniconda/envs/RIN_test/bin/bondtype -j full -i ANTECHAMBER_BOND_TYPE.AC0 -o ANTECHAMBER_BOND_TYPE.AC -f ac\n",
      "\n",
      "Running: /Users/alexi/miniconda/envs/RIN_test/bin/atomtype -i ANTECHAMBER_AC.AC0 -o ANTECHAMBER_AC.AC -p amber\n",
      "Info: Total number of electrons: 102; net charge: 0\n",
      "\n",
      "Running: /Users/alexi/miniconda/envs/RIN_test/bin/sqm -O -i sqm.in -o sqm.out\n"
     ]
    },
    {
     "name": "stderr",
     "output_type": "stream",
     "text": [
      "/Users/alexi/miniconda/envs/RIN_test/bin/wrapped_progs/antechamber: Non Fatal Error!\n",
      "Residue (KCX) has a type of LINKING.\n",
      "    This linking monomer will likely become part of a polymer\n",
      "    and thus probably requires special handling beyond antechamber.\n",
      "Ignore this error only if you know what you are doing.\n",
      "\n"
     ]
    },
    {
     "name": "stdout",
     "output_type": "stream",
     "text": [
      "\n",
      "Running: /Users/alexi/miniconda/envs/RIN_test/bin/am1bcc -i ANTECHAMBER_AM1BCC_PRE.AC -o ANTECHAMBER_AM1BCC.AC -f ac -p /Users/alexi/miniconda/envs/RIN_test/dat/antechamber/BCCPARM.DAT -s 2 -j 1\n",
      "\n",
      "Running: /Users/alexi/miniconda/envs/RIN_test/bin/atomtype -f ac -p bcc -o ANTECHAMBER_AM1BCC.AC -i ANTECHAMBER_AM1BCC_PRE.AC\n",
      "\n"
     ]
    },
    {
     "data": {
      "text/plain": [
       "CompletedProcess(args=['antechamber', '-i', 'start_structures/APO/KCX/KCX.cif', '-fi', 'ccif', '-bk', 'KCX', '-o', 'start_structures/APO/KCX/KCX.ac', '-fo', 'ac', '-c', 'bcc', '-at', 'amber', '-s', '2', '-nc', '0'], returncode=0)"
      ]
     },
     "execution_count": 21,
     "metadata": {},
     "output_type": "execute_result"
    }
   ],
   "source": [
    "\n",
    "\n",
    "print(KCX_dir)\n",
    "\n",
    "KCX_cif_path = os.path.join(KCX_dir, resname+'.cif')\n",
    "\n",
    "antechamber_command = [\n",
    "    'antechamber',\n",
    "    '-i', KCX_cif_path,\n",
    "    '-fi', 'ccif',\n",
    "    \"-bk\", resname, # component block for ccif\n",
    "    '-o', KCX_cif_path.replace('.cif', '.ac'),\n",
    "    '-fo', 'ac',\n",
    "    '-c', 'bcc', # charge method\n",
    "    '-at', 'amber', # ff atom types\n",
    "    '-s', '2', # verbose\n",
    "    '-nc', '0'\n",
    "\n",
    "]\n",
    "\n",
    "print(\" \".join(antechamber_command))\n",
    "\n",
    "subprocess.run(antechamber_command, check=True)"
   ]
  },
  {
   "cell_type": "code",
   "execution_count": 22,
   "metadata": {},
   "outputs": [],
   "source": [
    "# change NT to N in KCX.ac file\n",
    "KCX_ac_path = KCX_cif_path.replace('.cif', '.ac')\n",
    "\n",
    "# Read the contents of the KCX.ac file\n",
    "with open(KCX_ac_path, 'r') as f:\n",
    "    ac_contents = f.read()\n",
    "\n",
    "# Perform the replacement (NT to N)\n",
    "ac_contents = ac_contents.replace(\"NT\", \"N\")\n",
    "\n",
    "# Write the updated contents back to the KCX.ac file\n",
    "with open(KCX_ac_path, 'w+') as f:\n",
    "    # print(ac_contents)\n",
    "    f.write(ac_contents)\n",
    "\n"
   ]
  },
  {
   "cell_type": "code",
   "execution_count": 23,
   "metadata": {},
   "outputs": [
    {
     "name": "stdout",
     "output_type": "stream",
     "text": [
      "start_structures/APO/KCX/KCX.mc\n"
     ]
    }
   ],
   "source": [
    "KCX_mc = \"\"\"\n",
    "HEAD_NAME N\n",
    "TAIL_NAME C\n",
    "MAIN_CHAIN CA\n",
    "OMIT_NAME HN2\n",
    "OMIT_NAME OXT\n",
    "OMIT_NAME HXT\n",
    "OMIT_NAME HQ2\n",
    "PRE_HEAD_TYPE C\n",
    "POST_TAIL_TYPE N\n",
    "CHARGE -1.0\n",
    "\"\"\"\n",
    "# KCX_mc = \"\"\"\n",
    "# HEAD_NAME N\n",
    "# TAIL_NAME C\n",
    "# MAIN_CHAIN CA\n",
    "# MAIN_CHAIN CB\n",
    "# MAIN_CHAIN CG\n",
    "# MAIN_CHAIN CD\n",
    "# MAIN_CHAIN CE\n",
    "# MAIN_CHAIN NZ\n",
    "# MAIN_CHAIN CX\n",
    "# MAIN_CHAIN OQ1\n",
    "# MAIN_CHAIN OQ2\n",
    "# OMIT_NAME HN2\n",
    "# OMIT_NAME OXT\n",
    "# OMIT_NAME HXT\n",
    "# OMIT_NAME HQ2\n",
    "# PRE_HEAD_TYPE C\n",
    "# POST_TAIL_TYPE N\n",
    "# CHARGE -1.0\n",
    "# \"\"\"\n",
    "\n",
    "path = os.path.join(KCX_dir, resname+'.mc')\n",
    "print(path)\n",
    "with open(path, 'w') as f:\n",
    "    f.write(KCX_mc)\n",
    "\n"
   ]
  },
  {
   "cell_type": "code",
   "execution_count": 24,
   "metadata": {},
   "outputs": [
    {
     "name": "stdout",
     "output_type": "stream",
     "text": [
      "prepgen -i KCX.ac -o KCX.prepin -m KCX.mc -rn KCX\n",
      "\n",
      "PRE_HEAD_TYPE is     C\n",
      "POST_TAIL_TYPE is     N\n",
      "Net charge of truncated molecule is    -1.00\n",
      "HEAD_ATOM      1    N\n",
      "TAIL_ATOM      8    C\n",
      "MAIN_CHAIN     1    1    N\n",
      "MAIN_CHAIN     2    2   CA\n",
      "MAIN_CHAIN     3    8    C\n",
      "OMIT_ATOM      1   15  HN2\n",
      "OMIT_ATOM      2   11  OXT\n",
      "OMIT_ATOM      3   26  HXT\n",
      "OMIT_ATOM      4   27  HQ2\n",
      "Number of mainchain atoms (including head and tail atom):     3\n",
      "Number of omited atoms:     4\n",
      "Info: There is a bond linking a non-head and non-tail residue atom (OQ2) and an omitted atom (HQ2).\n",
      "      You need to specifically add this bond in LEaP using the command 'bond <atom1> <atom2> [order]'\n",
      "      to link OQ2 to an atom in another residue (similar to disulfide bonds)!\n"
     ]
    },
    {
     "data": {
      "text/plain": [
       "CompletedProcess(args=['prepgen', '-i', 'KCX.ac', '-o', 'KCX.prepin', '-m', 'KCX.mc', '-rn', 'KCX'], returncode=0)"
      ]
     },
     "execution_count": 24,
     "metadata": {},
     "output_type": "execute_result"
    }
   ],
   "source": [
    "\n",
    "prepgen_command = [\n",
    "    \"prepgen\",\n",
    "    \"-i\", resname+'.ac',\n",
    "    \"-o\", resname+'.prepin',\n",
    "    \"-m\", resname+'.mc',\n",
    "    \"-rn\", resname,\n",
    "]\n",
    "    \n",
    "print(\" \".join(prepgen_command))\n",
    "subprocess.run(prepgen_command, check=True, cwd=KCX_dir)"
   ]
  },
  {
   "cell_type": "code",
   "execution_count": null,
   "metadata": {},
   "outputs": [],
   "source": []
  },
  {
   "cell_type": "code",
   "execution_count": 25,
   "metadata": {},
   "outputs": [],
   "source": [
    "# find\n",
    "# !open $AMBERHOME"
   ]
  },
  {
   "cell_type": "code",
   "execution_count": 26,
   "metadata": {},
   "outputs": [
    {
     "name": "stdout",
     "output_type": "stream",
     "text": [
      "parmchk2 -i KCX.prepin -f prepi -o frcmod.KCX -a Y -p /Users/alexi/miniconda/envs/RIN_test/dat/leap/parm/parm10.dat\n"
     ]
    },
    {
     "data": {
      "text/plain": [
       "CompletedProcess(args=['parmchk2', '-i', 'KCX.prepin', '-f', 'prepi', '-o', 'frcmod.KCX', '-a', 'Y', '-p', '/Users/alexi/miniconda/envs/RIN_test/dat/leap/parm/parm10.dat'], returncode=0)"
      ]
     },
     "execution_count": 26,
     "metadata": {},
     "output_type": "execute_result"
    }
   ],
   "source": [
    "# adapt parmchk2 -i cro.prepin -f prepi -o frcmod.cro -a Y -p $AMBERHOME/dat/leap/parm/parm10.dat\n",
    "\n",
    "ff_dat = \"parm10.dat\"\n",
    "\n",
    "parmchk_command = [\n",
    "    \"parmchk2\",\n",
    "    \"-i\", resname + \".prepin\",\n",
    "    \"-f\", \"prepi\",\n",
    "    \"-o\", \"frcmod.\" + resname,\n",
    "    \"-a\", \"Y\",\n",
    "    \"-p\", os.environ[\"AMBERHOME\"]+\"/dat/leap/parm/\"+ ff_dat\n",
    "]\n",
    "\n",
    "print(\" \".join(parmchk_command))\n",
    "subprocess.run(parmchk_command, check=True, cwd=KCX_dir)"
   ]
  },
  {
   "cell_type": "code",
   "execution_count": 27,
   "metadata": {},
   "outputs": [
    {
     "name": "stdout",
     "output_type": "stream",
     "text": [
      "grep -v ATTN start_structures/APO/KCX/frcmod.KCX > start_structures/APO/KCX/frcmod1.KCX\n"
     ]
    }
   ],
   "source": [
    "# strip out ATTN lines\n",
    "\n",
    "# ! grep -v \"ATTN\" {\"frcmod.\"+resname} > {\"frcmod1.\"+resname} # Strip out ATTN lines\n",
    "\n",
    "grep_command = [\n",
    "    \"grep\", \"-v\", \"ATTN\",\n",
    "    os.path.join(KCX_dir, \"frcmod.\"+resname),\n",
    "    \">\", os.path.join(KCX_dir, \"frcmod1.\"+resname)\n",
    "]\n",
    "\n",
    "# Run grep command\n",
    "print(\" \".join(grep_command))\n",
    "! {\" \".join(grep_command)}\n",
    "# subprocess.run(grep_command, check=True)"
   ]
  },
  {
   "cell_type": "code",
   "execution_count": 28,
   "metadata": {},
   "outputs": [
    {
     "name": "stdout",
     "output_type": "stream",
     "text": [
      "parmchk2 -i KCX.prepin -f prepi -o frcmod2.KCX\n"
     ]
    },
    {
     "data": {
      "text/plain": [
       "CompletedProcess(args=['parmchk2', '-i', 'KCX.prepin', '-f', 'prepi', '-o', 'frcmod2.KCX'], returncode=0)"
      ]
     },
     "execution_count": 28,
     "metadata": {},
     "output_type": "execute_result"
    }
   ],
   "source": [
    "# GAFF parameters for ligands\n",
    "# adapt parmchk2 -i cro.prepin -f prepi -o frcmod.cro \n",
    "\n",
    "\n",
    "parmchk_command = [\n",
    "    \"parmchk2\",\n",
    "    \"-i\", resname + \".prepin\",\n",
    "    \"-f\", \"prepi\",\n",
    "    \"-o\", \"frcmod2.\" + resname,\n",
    "    # \"-a\", \"Y\",\n",
    "    # \"-p\", os.environ[\"AMBERHOME\"]+\"/dat/leap/parm/\"+ ff_dat\n",
    "]\n",
    "\n",
    "print(\" \".join(parmchk_command))\n",
    "subprocess.run(parmchk_command, check=True, cwd=KCX_dir)"
   ]
  },
  {
   "cell_type": "markdown",
   "metadata": {},
   "source": []
  },
  {
   "cell_type": "code",
   "execution_count": 29,
   "metadata": {},
   "outputs": [
    {
     "name": "stdout",
     "output_type": "stream",
     "text": [
      "APO_1K55_4amber.pdb\n"
     ]
    }
   ],
   "source": [
    "pdb = pdb_final\n",
    "print(pdb)\n",
    "leap_file = f\"\"\"source leaprc.protein.ff14SB\n",
    "set default PBRadii mbondi3\n",
    "loadAmberPrep {resname}.prepin\n",
    "loadAmberParams frcmod2.{resname}\n",
    "loadAmberParams frcmod1.{resname}\n",
    "x = loadPDB {pdb}\n",
    "saveAmberParm x {pdb.replace(\".pdb\",\"_ante.parm7\")} {pdb.replace(\".pdb\",\"_ante.rst7\")}\n",
    "quit\n",
    "\"\"\"\n",
    "\n",
    "leap_path = os.path.join(KCX_dir, 'tleap.in')\n",
    "\n",
    "with open(leap_path, 'w') as f:\n",
    "    f.write(leap_file)"
   ]
  },
  {
   "cell_type": "code",
   "execution_count": 30,
   "metadata": {},
   "outputs": [
    {
     "name": "stdout",
     "output_type": "stream",
     "text": [
      "-I: Adding /Users/alexi/miniconda/envs/RIN_test/dat/leap/prep to search path.\n",
      "-I: Adding /Users/alexi/miniconda/envs/RIN_test/dat/leap/lib to search path.\n",
      "-I: Adding /Users/alexi/miniconda/envs/RIN_test/dat/leap/parm to search path.\n",
      "-I: Adding /Users/alexi/miniconda/envs/RIN_test/dat/leap/cmd to search path.\n",
      "-f: Source tleap.in.\n",
      "\n",
      "Welcome to LEaP!\n",
      "(no leaprc in search path)\n",
      "Sourcing: ./tleap.in\n",
      "----- Source: /Users/alexi/miniconda/envs/RIN_test/dat/leap/cmd/leaprc.protein.ff14SB\n",
      "----- Source of /Users/alexi/miniconda/envs/RIN_test/dat/leap/cmd/leaprc.protein.ff14SB done\n",
      "Log file: ./leap.log\n",
      "Loading parameters: /Users/alexi/miniconda/envs/RIN_test/dat/leap/parm/parm10.dat\n",
      "Reading title:\n",
      "PARM99 + frcmod.ff99SB + frcmod.parmbsc0 + OL3 for RNA\n",
      "Loading parameters: /Users/alexi/miniconda/envs/RIN_test/dat/leap/parm/frcmod.ff14SB\n",
      "Reading force field modification type file (frcmod)\n",
      "Reading title:\n",
      "ff14SB protein backbone and sidechain parameters\n",
      "Loading library: /Users/alexi/miniconda/envs/RIN_test/dat/leap/lib/amino12.lib\n",
      "Loading library: /Users/alexi/miniconda/envs/RIN_test/dat/leap/lib/aminoct12.lib\n",
      "Loading library: /Users/alexi/miniconda/envs/RIN_test/dat/leap/lib/aminont12.lib\n",
      "Using ArgH and AspGluO modified Bondi2 radii\n",
      "Loading Prep file: ./KCX.prepin\n",
      "Loading parameters: ./frcmod2.KCX\n",
      "Reading force field modification type file (frcmod)\n",
      "Reading title:\n",
      "Remark line goes here\n",
      "Loading parameters: ./frcmod1.KCX\n",
      "Reading force field modification type file (frcmod)\n",
      "Reading title:\n",
      "Remark line goes here\n",
      "Loading PDB file: ./APO_1K55_4amber.pdb\n",
      "  Added missing heavy atom: .R<CGLY 245>.A<OXT 8>\n",
      "  total atoms in file: 3866\n",
      "  Leap added 4 missing atoms according to residue templates:\n",
      "       1 Heavy\n",
      "       3 H / lone pairs\n",
      "Checking Unit.\n",
      "\n",
      "/Users/alexi/miniconda/envs/RIN_test/bin/teLeap: Warning!\n",
      "The unperturbed charge of the unit (-2.000001) is not zero.\n",
      "\n",
      "/Users/alexi/miniconda/envs/RIN_test/bin/teLeap: Note.\n",
      "Ignoring the warning from Unit Checking.\n",
      "\n",
      "Building topology.\n",
      "Building atom parameters.\n",
      "Building bond parameters.\n",
      "Building angle parameters.\n",
      "Building proper torsion parameters.\n",
      "Building improper torsion parameters.\n",
      "old PREP-specified impropers:\n",
      " <KCX 50>:  CX   CE   NZ   HZ  \n",
      " <KCX 50>:  NZ   OQ1  CX   OQ2 \n",
      " <KCX 50>:  CA   +M   C    O   \n",
      " total 779 improper torsions applied\n",
      " 3 improper torsions in old prep form\n",
      "Building H-Bond parameters.\n",
      "Incorporating Non-Bonded adjustments.\n",
      "Not Marking per-residue atom chain types.\n",
      "Marking per-residue atom chain types.\n",
      "  (Residues lacking connect0/connect1 - \n",
      "   these don't have chain types marked:\n",
      "\n",
      "\tres\ttotal affected\n",
      "\n",
      "\tCGLY\t1\n",
      "\tNSER\t1\n",
      "  )\n",
      " (no restraints)\n",
      "\tQuit\n",
      "\n",
      "Exiting LEaP: Errors = 0; Warnings = 1; Notes = 1.\n"
     ]
    },
    {
     "data": {
      "text/plain": [
       "CompletedProcess(args=['tleap', '-f', 'tleap.in'], returncode=0)"
      ]
     },
     "execution_count": 30,
     "metadata": {},
     "output_type": "execute_result"
    }
   ],
   "source": [
    "tleap_command = [\n",
    "    \"tleap\",\n",
    "    \"-f\", \"tleap.in\" #os.path.join(KCX_dir, \"tleap.in\")\n",
    "]\n",
    "# subprocess.run(\"ls\", cwd=KCX_dir)\n",
    "\n",
    "# print(\" \".join(tleap_command))\n",
    "subprocess.run(tleap_command, cwd=KCX_dir)"
   ]
  },
  {
   "cell_type": "code",
   "execution_count": 37,
   "metadata": {},
   "outputs": [
    {
     "name": "stdout",
     "output_type": "stream",
     "text": [
      "start_structures/APO/KCX/APO_1K55_4amber.pdb\n",
      "start_structures/APO\n"
     ]
    }
   ],
   "source": [
    "print(pdb)\n",
    "print(settings.structures_input)"
   ]
  },
  {
   "cell_type": "code",
   "execution_count": 40,
   "metadata": {},
   "outputs": [
    {
     "name": "stdout",
     "output_type": "stream",
     "text": [
      "APO_1K55_4amber.pdb\n",
      "start_structures/APO/KCX/APO_1K55_4amber.pdb\n",
      "start_structures/APO/APO_1K55_chimeraFH.top\n"
     ]
    }
   ],
   "source": [
    "import parmed as pmd\n",
    "pdb = pdb_final\n",
    "print(pdb)\n",
    "pdb_path = os.path.join(KCX_dir, pdb)\n",
    "print(pdb_path)\n",
    "# convert AMBER topology to GROMACS, CHARMM formats\n",
    "amber = pmd.load_file(pdb_path.replace(\".pdb\",\"_ante.parm7\"),pdb_path.replace(\".pdb\",\"_ante.rst7\"))\n",
    "pdb_path = os.path.join(settings.structures_input, pdb)\n",
    "\n",
    "# Save a GROMACS topology and GRO files\n",
    "amber.save(pdb_path.replace(\"4amber\",\"chimeraFH\").replace(\".pdb\",\".top\"),overwrite=True)\n",
    "amber.save(pdb_path.replace(\"4amber\",\"chimeraFH\").replace(\".pdb\",\".gro\"),overwrite=True)\n",
    "print(pdb_path.replace(\"4amber\",\"chimeraFH\").replace(\".pdb\",\".top\"))\n"
   ]
  },
  {
   "cell_type": "code",
   "execution_count": 33,
   "metadata": {},
   "outputs": [],
   "source": [
    "# Rename molecule type of protein #rename file too and save to output folder"
   ]
  },
  {
   "cell_type": "code",
   "execution_count": null,
   "metadata": {},
   "outputs": [],
   "source": []
  },
  {
   "cell_type": "code",
   "execution_count": null,
   "metadata": {},
   "outputs": [],
   "source": [
    "# "
   ]
  }
 ],
 "metadata": {
  "kernelspec": {
   "display_name": "RIN_test",
   "language": "python",
   "name": "python3"
  },
  "language_info": {
   "codemirror_mode": {
    "name": "ipython",
    "version": 3
   },
   "file_extension": ".py",
   "mimetype": "text/x-python",
   "name": "python",
   "nbconvert_exporter": "python",
   "pygments_lexer": "ipython3",
   "version": "3.8.17"
  },
  "orig_nbformat": 4
 },
 "nbformat": 4,
 "nbformat_minor": 2
}
