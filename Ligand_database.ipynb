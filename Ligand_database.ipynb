{
 "cells": [
  {
   "cell_type": "markdown",
   "metadata": {},
   "source": []
  },
  {
   "cell_type": "code",
   "execution_count": 2,
   "metadata": {},
   "outputs": [],
   "source": [
    "### Ligand Database ###\n",
    "import requests\n",
    "import os\n",
    "from bs4 import BeautifulSoup\n",
    "import pandas as pd\n",
    "from copy import deepcopy\n",
    "from rdkit import Chem\n",
    "from SBLMDCOVDOCK.SBLSettings import DOCKING_Settings\n",
    "import numpy as np\n",
    "settings = DOCKING_Settings()\n",
    "import ast\n",
    "from sklearn.manifold import TSNE\n",
    "from sklearn.decomposition import PCA\n",
    "\n",
    "from sklearn.metrics import pairwise_distances\n",
    "\n",
    "import plotly.express as px\n",
    "from phate import PHATE\n",
    "\n",
    "from sklearn.decomposition import PCA\n",
    "import numpy as np\n"
   ]
  },
  {
   "cell_type": "code",
   "execution_count": null,
   "metadata": {},
   "outputs": [],
   "source": [
    "url =  \"http://bldb.eu/S-BLDB.php\"\n",
    "response = requests.get(url)\n",
    "soup = BeautifulSoup(response.content, 'html.parser')\n",
    "table = soup.find_all('table')  # Replace 'table' with the appropriate HTML element or attributes\n"
   ]
  },
  {
   "cell_type": "code",
   "execution_count": null,
   "metadata": {},
   "outputs": [],
   "source": [
    "df = pd.read_html(str(table))[1]\n",
    "# drop the first row\n",
    "df.drop(df.index[0], inplace=True)\n",
    "\n",
    "# fill empty cells in Ligands with APO\n",
    "df['Ligands'] = df['Ligands'].fillna('APO')\n",
    "df.Ligands = df.Ligands.apply(lambda x: x.split(\" \"))\n",
    "\n",
    "# drop Ambler class B-3\n",
    "df = df[df['Ambler class'] != 'B1']\n",
    "df = df[df['Ambler class'] != 'B2']\n",
    "df = df[df['Ambler class'] != 'B3']\n",
    "df.head()\n",
    "\n"
   ]
  },
  {
   "cell_type": "markdown",
   "metadata": {},
   "source": []
  },
  {
   "cell_type": "code",
   "execution_count": null,
   "metadata": {},
   "outputs": [],
   "source": [
    "for CLASS in df['Ambler class'].unique():\n",
    "    print(CLASS)"
   ]
  },
  {
   "cell_type": "code",
   "execution_count": null,
   "metadata": {},
   "outputs": [],
   "source": [
    "df[\"Covalent\"] = df.Ligands.apply(lambda x: [y for y in x if \"*\" in y])\n",
    "df[\"Covalent\"] = df.Covalent.apply(lambda x: x[0] if len(x) > 0 else None)\n",
    "df[\"Covalent\"] = df.Covalent.apply(lambda x: x.strip(\"*\") if x is not None else None)\n",
    "\n",
    "df[\"Michaelis\"] = df.Ligands.apply(lambda x: [y for y in x if \"$\" in y])\n",
    "df[\"Michaelis\"] = df.Michaelis.apply(lambda x: x[0] if len(x) > 0 else None)    \n",
    "df[\"Michaelis\"] = df.Michaelis.apply(lambda x: x.strip(\"$\") if x is not None else None)\n",
    "\n",
    "df[\"APO\"] = df.Ligands.apply(lambda x: \"APO\" if ((\"*\" or \"#\" or \"$\") not in \"\".join(x)) else None)\n",
    "df.Ligands = df.Ligands.apply(lambda x: \"APO\" if ((\"*\" or \"#\" or \"$\") not in \"\".join(x)) else x)\n",
    "df.Ligands = df.Ligands.apply(lambda x: [y for y in x if ((\"*\" or \"#\" or \"$\") in y)])\n",
    "df.Ligands = df.Ligands.apply(lambda x: [\"APO\"] if len(x) == 0 else x)\n",
    "\n",
    "\n",
    "single_ligand = df[df.Ligands.apply(lambda x: len(x) == 1)]\n",
    "\n",
    "# convert ligands to string\n",
    "single_ligand.Ligands = single_ligand.Ligands.apply(lambda x: x[0])\n",
    "# print(single_ligand.head())\n",
    "# remove APO\n",
    "single_ligand = single_ligand[single_ligand.Ligands != \"APO\"]\n",
    "print(single_ligand.head())\n",
    "\n"
   ]
  },
  {
   "cell_type": "code",
   "execution_count": null,
   "metadata": {},
   "outputs": [],
   "source": [
    "print(df.Covalent.value_counts())"
   ]
  },
  {
   "cell_type": "code",
   "execution_count": null,
   "metadata": {},
   "outputs": [],
   "source": [
    "for lig in single_ligand.Ligands:\n",
    "    print(lig)"
   ]
  },
  {
   "cell_type": "code",
   "execution_count": null,
   "metadata": {},
   "outputs": [],
   "source": [
    "\n",
    "for idx, lig in enumerate(df.Ligands):\n",
    "    #\n",
    "    if len(lig) > 1:\n",
    "\n",
    "        print(lig)\n",
    "        # for jdx, ligand in enumerate(lig):\n",
    "\n",
    "\n",
    "\n"
   ]
  },
  {
   "cell_type": "code",
   "execution_count": null,
   "metadata": {},
   "outputs": [],
   "source": [
    "# strip * from Ligand entries\n",
    "single_ligand.Ligands = single_ligand.Ligands.apply(lambda x: x.strip('*'))\n"
   ]
  },
  {
   "cell_type": "code",
   "execution_count": null,
   "metadata": {},
   "outputs": [],
   "source": [
    "# drop duplicate entries in Ligands, keep first\n",
    "unique_ligands = single_ligand.drop_duplicates(subset=['Ligands'], keep='first')\n",
    "unique_ligands.Ligands"
   ]
  },
  {
   "cell_type": "code",
   "execution_count": null,
   "metadata": {},
   "outputs": [],
   "source": []
  },
  {
   "cell_type": "code",
   "execution_count": null,
   "metadata": {},
   "outputs": [],
   "source": [
    "def download_ligands(ligcode,settings=settings):\n",
    "    \"\"\"\n",
    "    Download ligand sdf from PDB database\n",
    "    \"\"\"\n",
    "    url = f\"https://files.rcsb.org/ligands/download/{ligcode}_ideal.sdf\"\n",
    "    sdf_file = os.path.join(settings.structures_input, f\"{ligcode}.sdf\")\n",
    "\n",
    "    response = requests.get(url)\n",
    "    response.raise_for_status()  # Ensure we got a valid response\n",
    "\n",
    "    # Write the content of the response to a file\n",
    "    with open(sdf_file, 'wb') as f:\n",
    "        f.write(response.content)\n",
    "\n",
    "    print(f\"Ligand {ligcode} downloaded at {sdf_file}\")"
   ]
  },
  {
   "cell_type": "code",
   "execution_count": null,
   "metadata": {},
   "outputs": [],
   "source": [
    "for ligandcode in unique_ligands.Ligands:\n",
    "    break\n",
    "    download_ligands(ligandcode)"
   ]
  },
  {
   "cell_type": "code",
   "execution_count": null,
   "metadata": {},
   "outputs": [],
   "source": [
    "def SDF_to_SMILES(path):\n",
    "    \"\"\"\n",
    "    Convert SDF file to SMILES file\n",
    "    \"\"\"\n",
    "    suppl = Chem.SDMolSupplier(path)\n",
    "    for mol in suppl:\n",
    "        if mol is None: continue\n",
    "        return Chem.MolToSmiles(mol)"
   ]
  },
  {
   "cell_type": "code",
   "execution_count": null,
   "metadata": {},
   "outputs": [],
   "source": [
    "# add smiles to unique_ligands\n",
    "for ligandcode in unique_ligands.Ligands:\n",
    "    path = os.path.join(settings.structures_input, ligandcode+\".sdf\")\n",
    "    smiles = SDF_to_SMILES(path)\n",
    "    print(ligandcode, smiles)\n",
    "    unique_ligands.loc[unique_ligands.Ligands == ligandcode, \"SMILES\"] = smiles\n",
    "    \n",
    "    "
   ]
  },
  {
   "cell_type": "code",
   "execution_count": null,
   "metadata": {},
   "outputs": [],
   "source": [
    "print(unique_ligands.Ligands)"
   ]
  },
  {
   "cell_type": "code",
   "execution_count": null,
   "metadata": {},
   "outputs": [],
   "source": [
    "# Add scaffolds: DBO, β-Lactam,Cyclic boronate inhibitor, Non-β-lactam\n",
    "# Add scaffold: DBO: \n",
    "dbo_smiles = \"C1CN2CCN1CC2\"\n",
    "dbo_name = \"DABCO\"\n",
    "dbo_warhead = \"C1CNC(=O)N1\" #Imidazolidone\n",
    "dbo_warhead_name = \"DBO_warhead\"\n",
    "# Add scaffold: β-Lactam\n",
    "blactam_smiles = \"C1CNC2CC1C2\"\n",
    "blactam_name = \"bLAC\"\n",
    "blactam_warhead = \"C1CNC1=O\" #beta-lactam\n",
    "blactam_warhead_name = \"bLAC_warhead\"\n",
    "\n",
    "# Add scaffold: Cyclic boronate inhibitor: https://pubs.acs.org/doi/10.1021/acs.jmedchem.9b00911\n",
    "cbi_smiles = \"OB1Oc2c(ccc(F)c2C(O)=O)[C@H]2C[C@@H]12\"\n",
    "cbi_name = \"QPX7728\" #https://drug-discovery.vm.uni-freiburg.de/covpdb/complex_card/pdb_ligand_id=1959\n",
    "cbi_warhead = \"B(C)(O)O\" #Boronate\n",
    "cbi_warhead_name = \"CBI_warhead\"\n"
   ]
  },
  {
   "cell_type": "code",
   "execution_count": null,
   "metadata": {},
   "outputs": [],
   "source": [
    "# Add scaffold information to the ligand database\n",
    "\n",
    "scaffolds = {\n",
    "    \"SMILES\": [dbo_smiles, dbo_warhead,blactam_smiles, blactam_warhead,cbi_smiles,cbi_warhead],\n",
    "    \"Ligands\": [dbo_name, dbo_warhead_name,blactam_name, blactam_warhead_name,cbi_name,cbi_warhead_name]\n",
    "}\n",
    "\n",
    "# Add dictionary to the ligand database\n",
    "scaffolds = pd.DataFrame(scaffolds)\n",
    "\n",
    "unique_ligands = pd.concat([unique_ligands, scaffolds], axis=0, ignore_index=True)\n",
    "\n",
    "print(unique_ligands)\n"
   ]
  },
  {
   "cell_type": "code",
   "execution_count": 4,
   "metadata": {},
   "outputs": [
    {
     "ename": "NameError",
     "evalue": "name 'unique_ligands' is not defined",
     "output_type": "error",
     "traceback": [
      "\u001b[0;31m---------------------------------------------------------------------------\u001b[0m",
      "\u001b[0;31mNameError\u001b[0m                                 Traceback (most recent call last)",
      "Cell \u001b[0;32mIn[4], line 3\u001b[0m\n\u001b[1;32m      1\u001b[0m \u001b[39m# save to csv\u001b[39;00m\n\u001b[1;32m      2\u001b[0m smiles_csv_path \u001b[39m=\u001b[39m os\u001b[39m.\u001b[39mpath\u001b[39m.\u001b[39mjoin(settings\u001b[39m.\u001b[39mstructures_input, \u001b[39m\"\u001b[39m\u001b[39munique_ligands.csv\u001b[39m\u001b[39m\"\u001b[39m)\n\u001b[0;32m----> 3\u001b[0m unique_ligands\u001b[39m.\u001b[39mto_csv(smiles_csv_path, index\u001b[39m=\u001b[39m\u001b[39mFalse\u001b[39;00m)\n\u001b[1;32m      5\u001b[0m \u001b[39mprint\u001b[39m(smiles_csv_path)\n",
      "\u001b[0;31mNameError\u001b[0m: name 'unique_ligands' is not defined"
     ]
    }
   ],
   "source": [
    "# save to csv\n",
    "smiles_csv_path = os.path.join(settings.structures_input, \"unique_ligands.csv\")\n",
    "unique_ligands.to_csv(smiles_csv_path, index=False)\n",
    "\n",
    "print(smiles_csv_path)"
   ]
  },
  {
   "cell_type": "code",
   "execution_count": 19,
   "metadata": {},
   "outputs": [],
   "source": [
    "smiles_csv_path = os.path.join(settings.structures_input, \"unique_ligands.csv\")\n",
    "\n",
    "unique_ligands = pd.read_csv(smiles_csv_path)"
   ]
  },
  {
   "cell_type": "code",
   "execution_count": 20,
   "metadata": {},
   "outputs": [
    {
     "name": "stderr",
     "output_type": "stream",
     "text": [
      "2023-08-11 00:14:42,555|INFO|Generating conformers for ritalin.\n",
      "2023-08-11 00:14:43,740|INFO|Generated 1 conformers for ritalin.\n",
      "2023-08-11 00:14:43,741|INFO|Generating fingerprints for ritalin.\n",
      "2023-08-11 00:14:43,790|INFO|Generated 1 fingerprints for ritalin.\n"
     ]
    },
    {
     "name": "stdout",
     "output_type": "stream",
     "text": [
      "[ 188  206  224  356  401  489  561  562  763  914 1095 1346 1414 1455\n",
      " 1513 1527 1528 1584 1738 1786 1802 2063 2287 2316 2318 2521 2700 2714\n",
      " 2755 2793 2874 2978 3421 3693 4053]\n"
     ]
    }
   ],
   "source": [
    "from e3fp.pipeline import fprints_from_smiles\n",
    "\n",
    "fprint_params = {'bits': 4096, 'radius_multiplier': 1.5, 'rdkit_invariants': True}\n",
    "\n",
    "confgen_params = {'max_energy_diff': 20.0, 'first': 1}\n",
    "\n",
    "smiles = \"COC(=O)C(C1CCCCN1)C2=CC=CC=C2\"\n",
    "fprints = fprints_from_smiles(smiles, \"ritalin\", confgen_params=confgen_params, fprint_params=fprint_params)\n",
    "print()"
   ]
  },
  {
   "cell_type": "code",
   "execution_count": 33,
   "metadata": {},
   "outputs": [
    {
     "name": "stderr",
     "output_type": "stream",
     "text": [
      "2023-08-11 00:26:25,396|INFO|Generating conformers for NXL.\n"
     ]
    },
    {
     "name": "stdout",
     "output_type": "stream",
     "text": [
      "NXL\n",
      "NC(=O)[C@@H]1CC[C@@H](NOS(=O)(=O)O)CN1C=O\n"
     ]
    },
    {
     "name": "stderr",
     "output_type": "stream",
     "text": [
      "2023-08-11 00:26:26,318|INFO|Generated 1 conformers for NXL.\n",
      "2023-08-11 00:26:26,318|INFO|Generating fingerprints for NXL.\n",
      "2023-08-11 00:26:26,364|INFO|Generated 1 fingerprints for NXL.\n",
      "2023-08-11 00:26:26,366|INFO|Generating conformers for IM2.\n"
     ]
    },
    {
     "name": "stdout",
     "output_type": "stream",
     "text": [
      "IM2\n",
      "C[C@@H](O)[C@@H](C=O)[C@H]1CC(SCCNC=N)=C(C(=O)O)N1\n"
     ]
    },
    {
     "name": "stderr",
     "output_type": "stream",
     "text": [
      "2023-08-11 00:26:33,300|INFO|Generated 1 conformers for IM2.\n",
      "2023-08-11 00:26:33,300|INFO|Generating fingerprints for IM2.\n",
      "2023-08-11 00:26:33,362|INFO|Generated 1 fingerprints for IM2.\n",
      "2023-08-11 00:26:33,364|INFO|Generating conformers for ID1.\n"
     ]
    },
    {
     "name": "stdout",
     "output_type": "stream",
     "text": [
      "ID1\n",
      "C[C@@H](O)[C@@H](C=O)[C@H]1C[C@@H](SCC/N=C\\N)C(C(=O)O)=N1\n"
     ]
    },
    {
     "name": "stderr",
     "output_type": "stream",
     "text": [
      "2023-08-11 00:26:40,162|INFO|Generated 1 conformers for ID1.\n",
      "2023-08-11 00:26:40,163|INFO|Generating fingerprints for ID1.\n",
      "2023-08-11 00:26:40,214|INFO|Generated 1 fingerprints for ID1.\n",
      "2023-08-11 00:26:40,216|INFO|Generating conformers for 3P7.\n"
     ]
    },
    {
     "name": "stdout",
     "output_type": "stream",
     "text": [
      "3P7\n",
      "C=C1CO[C@H]([C@@](C=O)(NC(=O)[C@H](C(=O)O)c2ccc(O)cc2)OC)N=C1C(=O)O\n"
     ]
    }
   ],
   "source": [
    "\n",
    "fprints = []\n",
    "for idx, row in unique_ligands.iterrows():\n",
    "    print(row.Ligands)\n",
    "    print(row.SMILES)\n",
    "\n",
    "    smiles = row.SMILES\n",
    "    name = row.Ligands\n",
    "    fprint = fprints_from_smiles(smiles, name, confgen_params=confgen_params, fprint_params=fprint_params)\n",
    "    fprints.append(fprint)\n",
    "\n",
    "unique_ligands['fprint'] = fprints\n"
   ]
  },
  {
   "cell_type": "code",
   "execution_count": 32,
   "metadata": {},
   "outputs": [
    {
     "ename": "ImportError",
     "evalue": "cannot import name 'calculate_fprint' from 'SBLMDCOVDOCK.SBLSettings' (/Users/alexi/Library/CloudStorage/OneDrive-Nexus365/Rotation_Projects/Rotation_2/Project/SBL_MD_CovDock/SBLMDCOVDOCK/SBLSettings.py)",
     "output_type": "error",
     "traceback": [
      "\u001b[0;31m---------------------------------------------------------------------------\u001b[0m",
      "\u001b[0;31mImportError\u001b[0m                               Traceback (most recent call last)",
      "Cell \u001b[0;32mIn[32], line 2\u001b[0m\n\u001b[1;32m      1\u001b[0m \u001b[39mfrom\u001b[39;00m \u001b[39me3fp\u001b[39;00m\u001b[39m.\u001b[39;00m\u001b[39mpipeline\u001b[39;00m \u001b[39mimport\u001b[39;00m fprints_from_smiles\n\u001b[0;32m----> 2\u001b[0m \u001b[39mfrom\u001b[39;00m \u001b[39mSBLMDCOVDOCK\u001b[39;00m\u001b[39m.\u001b[39;00m\u001b[39mSBLSettings\u001b[39;00m \u001b[39mimport\u001b[39;00m calculate_fprint\n\u001b[1;32m      4\u001b[0m \u001b[39mfrom\u001b[39;00m \u001b[39mmultiprocessing\u001b[39;00m \u001b[39mimport\u001b[39;00m Pool, cpu_count\n\u001b[1;32m      5\u001b[0m \u001b[39mimport\u001b[39;00m \u001b[39mpandas\u001b[39;00m \u001b[39mas\u001b[39;00m \u001b[39mpd\u001b[39;00m\n",
      "\u001b[0;31mImportError\u001b[0m: cannot import name 'calculate_fprint' from 'SBLMDCOVDOCK.SBLSettings' (/Users/alexi/Library/CloudStorage/OneDrive-Nexus365/Rotation_Projects/Rotation_2/Project/SBL_MD_CovDock/SBLMDCOVDOCK/SBLSettings.py)"
     ]
    }
   ],
   "source": []
  },
  {
   "cell_type": "code",
   "execution_count": null,
   "metadata": {},
   "outputs": [],
   "source": [
    "smiles_csv_path = os.path.join(settings.structures_input, \"unique_ligands.csv\").replace(\".csv\",\"_pvae_logp_196_115.csv\")\n",
    "\n",
    "smiles_df = pd.read_csv(smiles_csv_path)\n",
    "smiles_df['vae_emb'] = smiles_df['vae_emb'].apply(ast.literal_eval)\n",
    "\n",
    "smiles_df.head()"
   ]
  },
  {
   "cell_type": "code",
   "execution_count": null,
   "metadata": {},
   "outputs": [],
   "source": [
    "break\n",
    "\n",
    "# Load your DataFrame\n",
    "\n",
    "# Extract the vae_emb column as a numpy array\n",
    "vae_embeddings = np.array(smiles_df['vae_emb'].tolist())\n",
    "\n",
    "# Perform PCA\n",
    "n_components = 2  # You can change this to the number of components you want\n",
    "pca = PCA(n_components=n_components)\n",
    "pca_result = pca.fit_transform(vae_embeddings)\n",
    "\n",
    "# Create a new DataFrame to store the PCA results\n",
    "pca_columns = [f'PC{i+1}' for i in range(n_components)]\n",
    "pca_df = pd.DataFrame(data=pca_result, columns=pca_columns)\n",
    "\n",
    "# Concatenate the original DataFrame with the PCA results\n",
    "smiles_df = pd.concat([smiles_df, pca_df], axis=1)\n",
    "\n",
    "# Print the first few rows of the result DataFrame\n",
    "print(smiles_df.head())\n",
    "\n",
    "\n",
    "# Load your \n",
    "# Convert the list of arrays to a numpy array\n",
    "# vae_embeddings = np.array(data['vae_emb'].tolist())\n",
    "\n",
    "# Perform t-SNE dimensionality reduction\n",
    "n_components = 2  # You can change this to the number of components you want\n",
    "tsne = TSNE(n_components=n_components)\n",
    "tsne_result = tsne.fit_transform(vae_embeddings)\n",
    "\n",
    "# Create a new DataFrame to store the t-SNE results\n",
    "tsne_columns = [f'TSNE{i+1}' for i in range(n_components)]\n",
    "tsne_df = pd.DataFrame(data=tsne_result, columns=tsne_columns)\n",
    "\n",
    "# Concatenate the original DataFrame with the t-SNE results\n",
    "smiles_df = pd.concat([smiles_df, tsne_df], axis=1)\n",
    "\n",
    "# Print the first few rows of the result DataFrame\n",
    "print(smiles_df.head())\n",
    "\n",
    "\n",
    "# Perform PHATE dimensionality reduction\n",
    "n_components = 2  # Number of components for 3D visualization\n",
    "phate_operator = PHATE(n_components=n_components)\n",
    "phate_result = phate_operator.fit_transform(vae_embeddings)\n",
    "\n",
    "# Create a new DataFrame to store the PHATE results\n",
    "phate_columns = [f'PHATE{i+1}' for i in range(n_components)]\n",
    "phate_df = pd.DataFrame(data=phate_result, columns=phate_columns)\n",
    "\n",
    "# Concatenate the original DataFrame with the PHATE results\n",
    "smiles_df = pd.concat([smiles_df, phate_df], axis=1)\n",
    "\n",
    "# Print the first few rows of the result DataFrame\n",
    "print(smiles_df.head())\n",
    "\n"
   ]
  },
  {
   "cell_type": "code",
   "execution_count": null,
   "metadata": {},
   "outputs": [],
   "source": [
    "# Load your DataFrame\n",
    "# Load your DataFrame\n",
    "\n",
    "# Extract the vae_emb column as a numpy array\n",
    "vae_embeddings = np.array(smiles_df['vae_emb'].tolist())\n",
    "\n",
    "\n",
    "# Perform PCA using pairwise angles\n",
    "n_components = 2  # You can change this to the number of components you want\n",
    "distance_matrix = pairwise_distances(vae_embeddings, metric='cosine')  # Calculate cosine distances\n",
    "pca = PCA(n_components=n_components, random_state=42)\n",
    "pca_result = pca.fit_transform(distance_matrix)\n",
    "\n",
    "# Create a new DataFrame to store the PCA results\n",
    "pca_columns = [f'PC{i+1}' for i in range(n_components)]\n",
    "pca_df = pd.DataFrame(data=pca_result, columns=pca_columns)\n",
    "\n",
    "# Concatenate the original DataFrame with the PCA results\n",
    "smiles_df = pd.concat([smiles_df, pca_df], axis=1)\n",
    "\n",
    "\n",
    "\n",
    "# Perform t-SNE dimensionality reduction using pairwise angles\n",
    "n_components = 2  # You can change this to the number of components you want\n",
    "tsne = TSNE(n_components=n_components, metric='cosine', random_state=42)  # Set metric to 'precomputed' and init to 'random'\n",
    "# distance_matrix = pairwise_distances(vae_embeddings, metric='cosine')  # Calculate cosine distances\n",
    "tsne_result = tsne.fit_transform(vae_embeddings)\n",
    "\n",
    "# Create a new DataFrame to store the t-SNE results\n",
    "tsne_columns = [f'TSNE{i+1}' for i in range(n_components)]\n",
    "tsne_df = pd.DataFrame(data=tsne_result, columns=tsne_columns)\n",
    "\n",
    "# Concatenate the original DataFrame with the t-SNE results\n",
    "smiles_df = pd.concat([smiles_df, tsne_df], axis=1)\n",
    "\n",
    "# Print the first few rows of the result DataFrame\n",
    "print(smiles_df.head())\n",
    "\n",
    "\n",
    "\n",
    "\n",
    "# Perform PHATE dimensionality reduction using pairwise angles\n",
    "n_components = 2  # Number of components for 3D visualization\n",
    "phate_operator = PHATE(n_components=n_components, knn_dist=\"cosine\", random_state=42)  # Set metric to 'angle'\n",
    "phate_result = phate_operator.fit_transform(distance_matrix)\n",
    "\n",
    "# Create a new DataFrame to store the PHATE results\n",
    "phate_columns = [f'PHATE{i+1}' for i in range(n_components)]\n",
    "phate_df = pd.DataFrame(data=phate_result, columns=phate_columns)\n",
    "\n",
    "# Concatenate the original DataFrame with the PHATE results\n",
    "smiles_df = pd.concat([smiles_df, phate_df], axis=1)\n",
    "\n",
    "# Print the first few rows of the result DataFrame\n",
    "print(smiles_df.head())\n"
   ]
  },
  {
   "cell_type": "code",
   "execution_count": null,
   "metadata": {},
   "outputs": [],
   "source": [
    "# Create an interactive scatter plot using Plotly\n",
    "fig = px.scatter(smiles_df, x='PC1', y='PC2', color='Covalent', \n",
    "                 hover_data=['PDB code', 'Ligands'])\n",
    "\n",
    "# Customize the plot layout\n",
    "fig.update_layout(title=\"PCA Visualization of VAE Embeddings\",\n",
    "                  xaxis_title=\"PCA Component 1\",\n",
    "                  yaxis_title=\"PCA Component 2\")\n",
    "\n",
    "# Show the plot\n",
    "fig.show()"
   ]
  },
  {
   "cell_type": "code",
   "execution_count": null,
   "metadata": {},
   "outputs": [],
   "source": [
    "import matplotlib.pyplot as plt\n",
    "\n",
    "# Create a scatter plot\n",
    "plt.figure(figsize=(15, 15))\n",
    "scatter = plt.scatter(smiles_df['PC1'], smiles_df['PC2'], c=range(len(smiles_df)), cmap='Set1')\n",
    "\n",
    "# Customize the plot\n",
    "plt.title(\"PCA Visualization of VAE Embeddings\")\n",
    "plt.xlabel(\"PCA Component 1\")\n",
    "plt.ylabel(\"PCA Component 2\")\n",
    "\n",
    "# Add labels to data points\n",
    "for index, row in smiles_df.iterrows():\n",
    "    plt.annotate(row['Ligands'], (row['PC1'], row['PC2']), textcoords=\"offset points\", xytext=(0,10), ha='center')\n",
    "\n",
    "# Show the plot\n",
    "plt.show()\n"
   ]
  },
  {
   "cell_type": "code",
   "execution_count": null,
   "metadata": {},
   "outputs": [],
   "source": [
    "import matplotlib.pyplot as plt\n",
    "from rdkit import Chem\n",
    "from rdkit.Chem import Draw\n",
    "from matplotlib.offsetbox import TextArea, DrawingArea, OffsetImage, AnnotationBbox\n",
    "\n",
    "# Create a scatter plot\n",
    "plt.figure(figsize=(100, 100))\n",
    "scatter = plt.scatter(smiles_df['PC1'], smiles_df['PC2'], c=range(len(smiles_df)), cmap='Set1')\n",
    "\n",
    "# Customize the plot\n",
    "plt.title(\"PCA Visualization of VAE Embeddings\")\n",
    "plt.xlabel(\"PCA Component 1\")\n",
    "plt.ylabel(\"PCA Component 2\")\n",
    "\n",
    "# Add the skeletal formulas as images next to data points\n",
    "for index, row in smiles_df.iterrows():\n",
    "    smiles = row['smiles']\n",
    "    molecule = Chem.MolFromSmiles(smiles)\n",
    "    \n",
    "    if molecule is not None:\n",
    "        img = Draw.MolToImage(molecule, size=(500, 500))\n",
    "        \n",
    "        img = img.convert(\"RGBA\")  # Convert to RGBA format for transparency support\n",
    "        img_data = img.getdata()\n",
    "        \n",
    "        # Set transparent pixels where the image is white\n",
    "        new_img_data = []\n",
    "        for item in img_data:\n",
    "            if item[:3] == (255, 255, 255):\n",
    "                new_img_data.append((255, 255, 255, 100))  # Transparent pixel\n",
    "            else:\n",
    "                new_img_data.append(item)\n",
    "        img.putdata(new_img_data)\n",
    "\n",
    "        imagebox = OffsetImage(img, zoom=0.5)\n",
    "\n",
    "        ab = AnnotationBbox(imagebox, (row['PC1'], row['PC2']), frameon=False, pad=0)\n",
    "        plt.gca().add_artist(ab)\n",
    "\n",
    "plt.show()\n"
   ]
  },
  {
   "cell_type": "code",
   "execution_count": null,
   "metadata": {},
   "outputs": [],
   "source": [
    "import matplotlib.pyplot as plt\n",
    "from rdkit import Chem\n",
    "from rdkit.Chem import Draw\n",
    "from matplotlib.offsetbox import TextArea, DrawingArea, OffsetImage, AnnotationBbox\n",
    "\n",
    "# Create a scatter plot\n",
    "plt.figure(figsize=(100, 100))\n",
    "scatter = plt.scatter(smiles_df['PC1'], smiles_df['PC2'], c=range(len(smiles_df)), cmap='Set1')\n",
    "\n",
    "# Customize the plot\n",
    "plt.title(\"PCA Visualization of VAE Embeddings\")\n",
    "plt.xlabel(\"PCA Component 1\")\n",
    "plt.ylabel(\"PCA Component 2\")\n",
    "\n",
    "# Add the skeletal formulas as images next to data points\n",
    "for index, row in smiles_df.iterrows():\n",
    "    smiles = row['smiles']\n",
    "    molecule = Chem.MolFromSmiles(smiles)\n",
    "    \n",
    "    if molecule is not None:\n",
    "        img = Draw.MolToImage(molecule, size=(500, 500))\n",
    "        \n",
    "        img = img.convert(\"RGBA\")  # Convert to RGBA format for transparency support\n",
    "        img_data = img.getdata()\n",
    "        \n",
    "        # Set transparent pixels where the image is white\n",
    "        new_img_data = []\n",
    "        for item in img_data:\n",
    "            if item[:3] == (255, 255, 255):\n",
    "                new_img_data.append((255, 255, 255, 100))  # Transparent pixel\n",
    "            else:\n",
    "                new_img_data.append(item)\n",
    "        img.putdata(new_img_data)\n",
    "\n",
    "        imagebox = OffsetImage(img, zoom=0.5)\n",
    "\n",
    "        ab = AnnotationBbox(imagebox, (row['PC1'], row['PC2']), frameon=False, pad=0)\n",
    "        plt.gca().add_artist(ab)\n",
    "\n",
    "plt.show()\n"
   ]
  },
  {
   "cell_type": "code",
   "execution_count": null,
   "metadata": {},
   "outputs": [],
   "source": []
  },
  {
   "cell_type": "code",
   "execution_count": null,
   "metadata": {},
   "outputs": [],
   "source": [
    "# Create an interactive scatter plot using Plotly\n",
    "fig = px.scatter(smiles_df, x='TSNE1', y='TSNE2', color='Covalent', \n",
    "                 hover_data=['PDB code', 'Ligands'])\n",
    "\n",
    "# Customize the plot layout\n",
    "fig.update_layout(title=\"t-SNE Visualization of VAE Embeddings\",\n",
    "                  xaxis_title=\"t-SNE Component 1\",\n",
    "                  yaxis_title=\"t-SNE Component 2\")\n",
    "\n",
    "# Show the plot\n",
    "fig.show()"
   ]
  },
  {
   "cell_type": "code",
   "execution_count": null,
   "metadata": {},
   "outputs": [],
   "source": [
    "# Create an interactive scatter plot using Plotly\n",
    "fig = px.scatter(smiles_df, x='TSNE1', y='TSNE2', color='Covalent', \n",
    "                 hover_data=['PDB code', 'Ligands'])\n",
    "\n",
    "# Customize the plot layout\n",
    "fig.update_layout(title=\"t-SNE Visualization of VAE Embeddings\",\n",
    "                  xaxis_title=\"t-SNE Component 1\",\n",
    "                  yaxis_title=\"t-SNE Component 2\")\n",
    "\n",
    "# Show the plot\n",
    "fig.show()"
   ]
  },
  {
   "cell_type": "code",
   "execution_count": null,
   "metadata": {},
   "outputs": [],
   "source": [
    "import matplotlib.pyplot as plt\n",
    "from rdkit import Chem\n",
    "from rdkit.Chem import Draw\n",
    "from matplotlib.offsetbox import TextArea, DrawingArea, OffsetImage, AnnotationBbox\n",
    "\n",
    "# Create a scatter plot\n",
    "plt.figure(figsize=(100, 100))\n",
    "scatter = plt.scatter(smiles_df['TSNE1'], smiles_df['TSNE2'], c=range(len(smiles_df)), cmap='Set1')\n",
    "\n",
    "# Customize the plot\n",
    "plt.title(\"TSNE Visualization of VAE Embeddings\")\n",
    "plt.xlabel(\"TSNE Component 1\")\n",
    "plt.ylabel(\"TSNE Component 2\")\n",
    "\n",
    "# Add the skeletal formulas as images next to data points\n",
    "for index, row in smiles_df.iterrows():\n",
    "    smiles = row['smiles']\n",
    "    molecule = Chem.MolFromSmiles(smiles)\n",
    "    \n",
    "    if molecule is not None:\n",
    "        img = Draw.MolToImage(molecule, size=(500, 500))\n",
    "        \n",
    "        img = img.convert(\"RGBA\")  # Convert to RGBA format for transparency support\n",
    "        img_data = img.getdata()\n",
    "        \n",
    "        # Set transparent pixels where the image is white\n",
    "        new_img_data = []\n",
    "        for item in img_data:\n",
    "            if item[:3] == (255, 255, 255):\n",
    "                new_img_data.append((255, 255, 255, 100))  # Transparent pixel\n",
    "            else:\n",
    "                new_img_data.append(item)\n",
    "        img.putdata(new_img_data)\n",
    "\n",
    "        imagebox = OffsetImage(img, zoom=0.5)\n",
    "\n",
    "        ab = AnnotationBbox(imagebox, (row['TSNE1'], row['TSNE2']), frameon=False, pad=0)\n",
    "        plt.gca().add_artist(ab)\n",
    "\n",
    "plt.show()\n"
   ]
  },
  {
   "cell_type": "code",
   "execution_count": null,
   "metadata": {},
   "outputs": [],
   "source": [
    "import matplotlib.pyplot as plt\n",
    "from rdkit import Chem\n",
    "from rdkit.Chem import Draw\n",
    "from matplotlib.offsetbox import TextArea, DrawingArea, OffsetImage, AnnotationBbox\n",
    "\n",
    "# Create a scatter plot\n",
    "plt.figure(figsize=(100, 100))\n",
    "scatter = plt.scatter(smiles_df['TSNE1'], smiles_df['TSNE2'], c=range(len(smiles_df)), cmap='Set1')\n",
    "\n",
    "# Customize the plot\n",
    "plt.title(\"TSNE Visualization of VAE Embeddings\")\n",
    "plt.xlabel(\"TSNE Component 1\")\n",
    "plt.ylabel(\"TSNE Component 2\")\n",
    "\n",
    "# Add the skeletal formulas as images next to data points\n",
    "for index, row in smiles_df.iterrows():\n",
    "    smiles = row['smiles']\n",
    "    molecule = Chem.MolFromSmiles(smiles)\n",
    "    \n",
    "    if molecule is not None:\n",
    "        img = Draw.MolToImage(molecule, size=(500, 500))\n",
    "        \n",
    "        img = img.convert(\"RGBA\")  # Convert to RGBA format for transparency support\n",
    "        img_data = img.getdata()\n",
    "        \n",
    "        # Set transparent pixels where the image is white\n",
    "        new_img_data = []\n",
    "        for item in img_data:\n",
    "            if item[:3] == (255, 255, 255):\n",
    "                new_img_data.append((255, 255, 255, 100))  # Transparent pixel\n",
    "            else:\n",
    "                new_img_data.append(item)\n",
    "        img.putdata(new_img_data)\n",
    "\n",
    "        imagebox = OffsetImage(img, zoom=0.5)\n",
    "\n",
    "        ab = AnnotationBbox(imagebox, (row['TSNE1'], row['TSNE2']), frameon=False, pad=0)\n",
    "        plt.gca().add_artist(ab)\n",
    "\n",
    "plt.show()\n"
   ]
  },
  {
   "cell_type": "code",
   "execution_count": null,
   "metadata": {},
   "outputs": [],
   "source": []
  },
  {
   "cell_type": "code",
   "execution_count": null,
   "metadata": {},
   "outputs": [],
   "source": [
    "import matplotlib.pyplot as plt\n",
    "\n",
    "# Create a scatter plot\n",
    "plt.figure(figsize=(15, 15))\n",
    "scatter = plt.scatter(smiles_df['TSNE1'], smiles_df['TSNE2'], c=range(len(smiles_df)), cmap='Set1')\n",
    "\n",
    "# Customize the plot\n",
    "plt.title(\"TSNE Visualization of VAE Embeddings\")\n",
    "plt.xlabel(\"TSNE Component 1\")\n",
    "plt.ylabel(\"TSNE Component 2\")\n",
    "\n",
    "# Add labels to data points\n",
    "for index, row in smiles_df.iterrows():\n",
    "    plt.annotate(row['Ligands'], (row['TSNE1'], row['TSNE2']), textcoords=\"offset points\", xytext=(0,10), ha='center')\n",
    "\n",
    "# Show the plot\n",
    "plt.show()\n"
   ]
  },
  {
   "cell_type": "code",
   "execution_count": null,
   "metadata": {},
   "outputs": [],
   "source": [
    "# Create an interactive scatter plot using Plotly\n",
    "fig = px.scatter(smiles_df, x='PHATE1', y='PHATE2', color='Covalent', \n",
    "                 hover_data=['PDB code', 'Ligands'])\n",
    "\n",
    "# Customize the plot layout\n",
    "fig.update_layout(title=\"PHATE Visualization of VAE Embeddings\",\n",
    "                  xaxis_title=\"PHATE Component 1\",\n",
    "                  yaxis_title=\"PHATE Component 2\")\n",
    "\n",
    "# Show the plot\n",
    "fig.show()"
   ]
  },
  {
   "cell_type": "code",
   "execution_count": null,
   "metadata": {},
   "outputs": [],
   "source": [
    "# Create an interactive scatter plot using Plotly\n",
    "fig = px.scatter(smiles_df, x='PHATE1', y='PHATE2', color='Covalent', \n",
    "                 hover_data=['PDB code', 'Ligands'])\n",
    "\n",
    "# Customize the plot layout\n",
    "fig.update_layout(title=\"PHATE Visualization of VAE Embeddings\",\n",
    "                  xaxis_title=\"PHATE Component 1\",\n",
    "                  yaxis_title=\"PHATE Component 2\")\n",
    "\n",
    "# Show the plot\n",
    "fig.show()"
   ]
  },
  {
   "cell_type": "code",
   "execution_count": null,
   "metadata": {},
   "outputs": [],
   "source": [
    "import matplotlib.pyplot as plt\n",
    "from rdkit import Chem\n",
    "from rdkit.Chem import Draw\n",
    "from matplotlib.offsetbox import TextArea, DrawingArea, OffsetImage, AnnotationBbox\n",
    "\n",
    "# Create a scatter plot\n",
    "plt.figure(figsize=(100, 100))\n",
    "scatter = plt.scatter(smiles_df['PHATE1'], smiles_df['PHATE2'], c=range(len(smiles_df)), cmap='Set1')\n",
    "\n",
    "# Customize the plot\n",
    "plt.title(\"PHATE Visualization of VAE Embeddings\")\n",
    "plt.xlabel(\"PHATE Component 1\")\n",
    "plt.ylabel(\"PHATE Component 2\")\n",
    "\n",
    "# Add the skeletal formulas as images next to data points\n",
    "for index, row in smiles_df.iterrows():\n",
    "    smiles = row['smiles']\n",
    "    molecule = Chem.MolFromSmiles(smiles)\n",
    "    \n",
    "    if molecule is not None:\n",
    "        img = Draw.MolToImage(molecule, size=(500, 500))\n",
    "        \n",
    "        img = img.convert(\"RGBA\")  # Convert to RGBA format for transparency support\n",
    "        img_data = img.getdata()\n",
    "        \n",
    "        # Set transparent pixels where the image is white\n",
    "        new_img_data = []\n",
    "        for item in img_data:\n",
    "            if item[:3] == (255, 255, 255):\n",
    "                new_img_data.append((255, 255, 255, 100))  # Transparent pixel\n",
    "            else:\n",
    "                new_img_data.append(item)\n",
    "        img.putdata(new_img_data)\n",
    "\n",
    "        imagebox = OffsetImage(img, zoom=0.5)\n",
    "\n",
    "        ab = AnnotationBbox(imagebox, (row['PHATE1'], row['PHATE2']), frameon=False, pad=0)\n",
    "        plt.gca().add_artist(ab)\n",
    "\n",
    "plt.show()\n"
   ]
  },
  {
   "cell_type": "code",
   "execution_count": null,
   "metadata": {},
   "outputs": [],
   "source": [
    "import matplotlib.pyplot as plt\n",
    "from rdkit import Chem\n",
    "from rdkit.Chem import Draw\n",
    "from matplotlib.offsetbox import TextArea, DrawingArea, OffsetImage, AnnotationBbox\n",
    "\n",
    "# Create a scatter plot\n",
    "plt.figure(figsize=(100, 100))\n",
    "scatter = plt.scatter(smiles_df['PHATE1'], smiles_df['PHATE2'], c=range(len(smiles_df)), cmap='Set1')\n",
    "\n",
    "# Customize the plot\n",
    "plt.title(\"PHATE Visualization of VAE Embeddings\")\n",
    "plt.xlabel(\"PHATE Component 1\")\n",
    "plt.ylabel(\"PHATE Component 2\")\n",
    "\n",
    "# Add the skeletal formulas as images next to data points\n",
    "for index, row in smiles_df.iterrows():\n",
    "    smiles = row['smiles']\n",
    "    molecule = Chem.MolFromSmiles(smiles)\n",
    "    \n",
    "    if molecule is not None:\n",
    "        img = Draw.MolToImage(molecule, size=(500, 500))\n",
    "        \n",
    "        img = img.convert(\"RGBA\")  # Convert to RGBA format for transparency support\n",
    "        img_data = img.getdata()\n",
    "        \n",
    "        # Set transparent pixels where the image is white\n",
    "        new_img_data = []\n",
    "        for item in img_data:\n",
    "            if item[:3] == (255, 255, 255):\n",
    "                new_img_data.append((255, 255, 255, 100))  # Transparent pixel\n",
    "            else:\n",
    "                new_img_data.append(item)\n",
    "        img.putdata(new_img_data)\n",
    "\n",
    "        imagebox = OffsetImage(img, zoom=0.5)\n",
    "\n",
    "        ab = AnnotationBbox(imagebox, (row['PHATE1'], row['PHATE2']), frameon=False, pad=0)\n",
    "        plt.gca().add_artist(ab)\n",
    "\n",
    "plt.show()\n"
   ]
  },
  {
   "cell_type": "code",
   "execution_count": null,
   "metadata": {},
   "outputs": [],
   "source": [
    "import matplotlib.pyplot as plt\n",
    "\n",
    "# Create a scatter plot\n",
    "plt.figure(figsize=(15, 15))\n",
    "scatter = plt.scatter(smiles_df['PHATE1'], smiles_df['PHATE2'], c=range(len(smiles_df)), cmap='Set1')\n",
    "\n",
    "# Customize the plot\n",
    "plt.title(\"PHATE Visualization of VAE Embeddings\")\n",
    "plt.xlabel(\"PHATE Component 1\")\n",
    "plt.ylabel(\"PHATE Component 2\")\n",
    "\n",
    "# Add labels to data points\n",
    "for index, row in smiles_df.iterrows():\n",
    "    plt.annotate(row['Ligands'], (row['PHATE1'], row['PHATE2']), textcoords=\"offset points\", xytext=(0,10), ha='center')\n",
    "\n",
    "# Show the plot\n",
    "plt.show()\n"
   ]
  },
  {
   "cell_type": "code",
   "execution_count": null,
   "metadata": {},
   "outputs": [],
   "source": [
    "# Create an interactive 3D scatter plot using Plotly\n",
    "fig = px.scatter_3d(smiles_df, x='PHATE1', y='PHATE2', z='PHATE3', color='Covalent', \n",
    "                    hover_data=['PDB', 'Ligands']\n",
    "                    )\n",
    "\n",
    "# Customize the plot layout\n",
    "fig.update_layout(title=\"3D PHATE Visualization of VAE Embeddings\",\n",
    "                  scene=dict(xaxis_title=\"PHATE Component 1\",\n",
    "                             yaxis_title=\"PHATE Component 2\",\n",
    "                             zaxis_title=\"PHATE Component 3\"))\n",
    "\n",
    "# Show the plot\n",
    "fig.show()\n"
   ]
  },
  {
   "cell_type": "code",
   "execution_count": null,
   "metadata": {},
   "outputs": [],
   "source": []
  }
 ],
 "metadata": {
  "kernelspec": {
   "display_name": "RIN_test",
   "language": "python",
   "name": "python3"
  },
  "language_info": {
   "codemirror_mode": {
    "name": "ipython",
    "version": 3
   },
   "file_extension": ".py",
   "mimetype": "text/x-python",
   "name": "python",
   "nbconvert_exporter": "python",
   "pygments_lexer": "ipython3",
   "version": "3.8.17"
  },
  "orig_nbformat": 4
 },
 "nbformat": 4,
 "nbformat_minor": 2
}
